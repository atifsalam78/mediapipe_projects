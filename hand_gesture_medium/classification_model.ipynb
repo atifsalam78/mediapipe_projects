{
 "cells": [
  {
   "cell_type": "code",
   "execution_count": 1,
   "id": "22cd5c39-9a92-4cd1-8a35-57b00ee7f240",
   "metadata": {},
   "outputs": [],
   "source": [
    "import tensorflow as tf\n",
    "from tensorflow import keras\n",
    "from keras import Sequential\n",
    "from keras.layers import Dense,Conv2D,MaxPooling2D,Flatten,BatchNormalization,Dropout\n",
    "import matplotlib.pyplot as plt"
   ]
  },
  {
   "cell_type": "code",
   "execution_count": 11,
   "id": "a6a3104d-80c5-40f6-abc7-9eb2b77dcd73",
   "metadata": {},
   "outputs": [
    {
     "name": "stdout",
     "output_type": "stream",
     "text": [
      "Found 653 files belonging to 5 classes.\n",
      "Found 191 files belonging to 5 classes.\n"
     ]
    }
   ],
   "source": [
    "# Generators\n",
    "train_ds = keras.utils.image_dataset_from_directory(\n",
    "    directory= \"D:/mediapipe_projects/hand_gesture_medium/workspace/images/collected_images/train\",\n",
    "    labels = \"inferred\",\n",
    "    label_mode = \"int\",\n",
    "    batch_size = 32,\n",
    "    image_size = (256,256)\n",
    ")\n",
    "\n",
    "validation_ds = keras.utils.image_dataset_from_directory(\n",
    "    directory = \"D:/mediapipe_projects/hand_gesture_medium/workspace/images/collected_images/test\",\n",
    "    labels = \"inferred\",\n",
    "    label_mode = \"int\",\n",
    "    batch_size = 32,\n",
    "    image_size = (256, 256)\n",
    ")"
   ]
  },
  {
   "cell_type": "code",
   "execution_count": 13,
   "id": "bd0d85bd-c535-470c-8d1b-4df479a30cfd",
   "metadata": {},
   "outputs": [],
   "source": [
    "# Normalize\n",
    "\n",
    "def process(image, label):\n",
    "    image = tf.cast(image/255., tf.float32)\n",
    "    return image, label\n",
    "\n",
    "train_ds = train_ds.map(process)\n",
    "validation_ds = validation_ds.map(process)    "
   ]
  },
  {
   "cell_type": "code",
   "execution_count": 15,
   "id": "5d924dfd-c24d-41ba-9ded-3efc750e8410",
   "metadata": {},
   "outputs": [
    {
     "data": {
      "text/plain": [
       "<_MapDataset element_spec=(TensorSpec(shape=(None, 256, 256, 3), dtype=tf.float32, name=None), TensorSpec(shape=(None,), dtype=tf.int32, name=None))>"
      ]
     },
     "execution_count": 15,
     "metadata": {},
     "output_type": "execute_result"
    }
   ],
   "source": [
    "train_ds"
   ]
  },
  {
   "cell_type": "code",
   "execution_count": null,
   "id": "97f68de5-b313-4038-86c7-6212baff23c7",
   "metadata": {},
   "outputs": [],
   "source": []
  }
 ],
 "metadata": {
  "kernelspec": {
   "display_name": "Python 3 (ipykernel)",
   "language": "python",
   "name": "python3"
  },
  "language_info": {
   "codemirror_mode": {
    "name": "ipython",
    "version": 3
   },
   "file_extension": ".py",
   "mimetype": "text/x-python",
   "name": "python",
   "nbconvert_exporter": "python",
   "pygments_lexer": "ipython3",
   "version": "3.11.7"
  }
 },
 "nbformat": 4,
 "nbformat_minor": 5
}
