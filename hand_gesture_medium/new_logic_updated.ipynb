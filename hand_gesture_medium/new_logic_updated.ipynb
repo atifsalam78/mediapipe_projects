{
 "cells": [
  {
   "cell_type": "code",
   "execution_count": null,
   "id": "c24f0f7e-e030-4b94-ad15-a41c1362db87",
   "metadata": {},
   "outputs": [],
   "source": [
    "import cv2 as cv\n",
    "import numpy as np\n",
    "import os\n",
    "from matplotlib import pyplot as plt\n",
    "import time\n",
    "import mediapipe as mp\n",
    "from tensorflow.keras.utils import to_categorical\n",
    "from sklearn.model_selection import train_test_split\n",
    "import datetime as dt"
   ]
  },
  {
   "cell_type": "code",
   "execution_count": null,
   "id": "1ec34db4-7b4c-4e45-a15e-bca70a9dcba8",
   "metadata": {},
   "outputs": [],
   "source": [
    "mp_holistic = mp.solutions.holistic   # Holistic model\n",
    "mp_drawing = mp.solutions.drawing_utils # Drawing utilities"
   ]
  },
  {
   "cell_type": "code",
   "execution_count": null,
   "id": "945649b2-a893-44a5-a308-0063253c8f10",
   "metadata": {},
   "outputs": [],
   "source": [
    "def count_files(folder_path):\n",
    "    folder_len = len([name for name in os.listdir(folder_path) if os.path.isfile(os.path.join(folder_path, name))])\n",
    "    return folder_len"
   ]
  },
  {
   "cell_type": "code",
   "execution_count": null,
   "id": "46c28f2e-f1d9-442e-876a-e4c52a8c401b",
   "metadata": {},
   "outputs": [],
   "source": [
    "def read_file_names(folder_path):\n",
    "    file_name = [name for name in os.listdir(folder_path) if os.path.isfile(os.path.join(folder_path, name))]\n",
    "    return file_name"
   ]
  },
  {
   "cell_type": "code",
   "execution_count": null,
   "id": "e0e7902c-7e2c-496d-9eeb-97730a72567c",
   "metadata": {},
   "outputs": [],
   "source": [
    "def mediapipe_detection(image, model):    \n",
    "    image = cv.cvtColor(image, cv.COLOR_BGR2RGB) # Color conversion from BGR to RGB\n",
    "    image.flags.writeable = False                  # Image is no longe writeable\n",
    "    results = model.process(image)                 # Make prediction\n",
    "    image.flags.writeable = True                   # Image is now writeable\n",
    "    image = cv.cvtColor(image, cv.COLOR_RGB2BGR) # Color converson from RGB to BGR\n",
    "    return image, results"
   ]
  },
  {
   "cell_type": "code",
   "execution_count": null,
   "id": "ac389f4e-d348-4b2c-b4a1-b046c182562a",
   "metadata": {},
   "outputs": [],
   "source": [
    "def draw_styled_landmarks(image, results):\n",
    "    # Draw Face connections - if we want just outlines of the face\n",
    "    # mp_drawing.draw_landmarks(image, results.face_landmarks, mp_holistic.FACEMESH_CONTOURS,\n",
    "    #                          mp_drawing.DrawingSpec(color=(80,110,10), thickness=1, circle_radius=1),\n",
    "    #                          mp_drawing.DrawingSpec(color=(80,256,121), thickness=1, circle_radius=1)\n",
    "    #                          )\n",
    "\n",
    "                            # OR if we want mesh\n",
    "    # mp_drawing.draw_landmarks(image, results.face_landmarks, mp_holistic.FACEMESH_TESSELATION,\n",
    "    #                          mp_drawing.DrawingSpec(color=(80,110,10), thickness=1, circle_radius=1),\n",
    "    #                          mp_drawing.DrawingSpec(color=(80,256,121), thickness=1, circle_radius=1)\n",
    "    #                          )\n",
    "    \n",
    "    # Draw Pose connections\n",
    "    # mp_drawing.draw_landmarks(image, results.pose_landmarks, mp_holistic.POSE_CONNECTIONS,\n",
    "    #                          mp_drawing.DrawingSpec(color=(80,22,10), thickness=2, circle_radius=2),\n",
    "    #                          mp_drawing.DrawingSpec(color=(80,44,121), thickness=2, circle_radius=2)\n",
    "    #                          )\n",
    "    \n",
    "    # Draw Left hand connections\n",
    "    mp_drawing.draw_landmarks(image, results.left_hand_landmarks, mp_holistic.HAND_CONNECTIONS,\n",
    "                             mp_drawing.DrawingSpec(color=(121,22,76), thickness=2, circle_radius=2),\n",
    "                             mp_drawing.DrawingSpec(color=(121,44,121), thickness=2, circle_radius=2)\n",
    "                             )\n",
    "    # Draw Right hand connections\n",
    "    mp_drawing.draw_landmarks(image, results.right_hand_landmarks, mp_holistic.HAND_CONNECTIONS,\n",
    "                             mp_drawing.DrawingSpec(color=(245,117,66), thickness=2, circle_radius=2),\n",
    "                             mp_drawing.DrawingSpec(color=(245,66,230), thickness=2, circle_radius=2)\n",
    "                             )"
   ]
  },
  {
   "cell_type": "code",
   "execution_count": null,
   "id": "8a813190-ee1e-4944-9f2c-64712bdaca1f",
   "metadata": {},
   "outputs": [],
   "source": [
    "def extract_keypoints(results):\n",
    "    # pose = np.array([[res.x, res.y, res.z, res.visibility] for res in results.pose_landmarks.landmark]).flatten() if results.pose_landmarks else np.zeros(33*4)\n",
    "    # face = np.array([[res.x, res.y, res.z] for res in results.face_landmarks.landmark]).flatten() if results.face_landmarks else np.zeros(468*3)\n",
    "    lh = np.array([[res.x, res.y, res.z] for res in results.left_hand_landmarks.landmark]).flatten() if results.left_hand_landmarks else np.zeros(21*3)\n",
    "    rh = np.array([[res.x, res.y, res.z] for res in results.right_hand_landmarks.landmark]).flatten() if results.right_hand_landmarks else np.zeros(21*3)\n",
    "    return np.concatenate([lh, rh])"
   ]
  },
  {
   "cell_type": "code",
   "execution_count": null,
   "id": "b890500c-ddd9-4d0d-b99c-57051b1a4d33",
   "metadata": {},
   "outputs": [],
   "source": [
    "# Path for exported data, numpy arrays  \n",
    "DATA_PATH = os.path.join('MP_Data')   \n",
    "\n",
    "# Actions that we try to detect  \n",
    "actions = np.array(['iloveyou', 'no', 'yes'])  \n",
    "\n",
    "def count_files(folder_path):  \n",
    "    # Function to count the number of files in a folder  \n",
    "    return len(os.listdir(folder_path))  \n",
    "\n",
    "def read_file_names(folder_path):  \n",
    "    # Function to read file names in a folder  \n",
    "    return os.listdir(folder_path)  \n",
    "\n",
    "with mp_holistic.Holistic(min_detection_confidence=0.7, min_tracking_confidence=0.5) as holistic:  \n",
    "    for action in actions:  \n",
    "        folder_path = \"D:\\workspace\\images\\collected_images\\handgestures/{}\".format(action)  \n",
    "        file_names = read_file_names(folder_path)  \n",
    "        \n",
    "        for sequence in range(len(file_names)):  \n",
    "            os.makedirs(os.path.join(DATA_PATH, action, str(sequence)), exist_ok=True)  \n",
    "            for frame_num in range(len(file_names)):  \n",
    "                file_name = file_names[frame_num]  \n",
    "                file_path = os.path.join(folder_path, file_name)  \n",
    "                \n",
    "                image = cv.imread(file_path)  \n",
    "                if image is None:  \n",
    "                    print(\"Error: could not load the image {}\".format(file_name))  \n",
    "                else:  \n",
    "                    image, results = mediapipe_detection(image, holistic) # Make Detection  \n",
    "                    draw_styled_landmarks(image, results) # Draw Landmarks  \n",
    "                    keypoints = extract_keypoints(results) # Extract key points  \n",
    "                    npy_path = os.path.join(DATA_PATH, action, str(sequence), f\"{frame_num}.npy\")  \n",
    "                    np.save(npy_path, keypoints)"
   ]
  },
  {
   "cell_type": "code",
   "execution_count": null,
   "id": "c3c79043-edf3-48fe-81b4-81e296272f96",
   "metadata": {},
   "outputs": [],
   "source": [
    "actions = np.array(['hello','thanks','iloveyou', 'no', 'yes'])\n",
    "DATA_PATH = os.path.join(\"MP_Data\")\n",
    "for action in actions:  \n",
    "        folder_path = \"D:\\workspace\\images\\collected_images\\handgestures/{}\".format(action)\n",
    "sequences, labels = [], []\n",
    "num_files = count_files(folder_path)\n",
    "actions = np.array(['hello','thanks','iloveyou', 'no', 'yes'])\n",
    "label_map = {label:num for num, label in enumerate(actions)}\n",
    "\n",
    "for action in actions:\n",
    "    for sequence in range(num_files):\n",
    "        window = []\n",
    "        for frame_num in range(num_files):            \n",
    "            res = np.load(os.path.join(DATA_PATH, action, str(sequence), f\"{frame_num}.npy\"))\n",
    "\n",
    "            window.append(res)\n",
    "        sequences.append(window)\n",
    "        labels.append(label_map[action])"
   ]
  },
  {
   "cell_type": "code",
   "execution_count": null,
   "id": "98d96371-9c79-4659-9f6b-1ae79437f9b8",
   "metadata": {},
   "outputs": [],
   "source": [
    "sequences"
   ]
  },
  {
   "cell_type": "code",
   "execution_count": null,
   "id": "4b98d7e8-ea7a-4f96-896c-63991203de39",
   "metadata": {},
   "outputs": [],
   "source": [
    "np.array(sequences[0]).shape"
   ]
  },
  {
   "cell_type": "code",
   "execution_count": null,
   "id": "b83e06a4-5c81-4ad9-8446-32c15b94fb9f",
   "metadata": {},
   "outputs": [],
   "source": [
    "np.array(labels).shape"
   ]
  },
  {
   "cell_type": "code",
   "execution_count": null,
   "id": "415b800c-7795-4a6f-84fb-b8b137856d32",
   "metadata": {},
   "outputs": [],
   "source": [
    "X = np.array(sequences)"
   ]
  },
  {
   "cell_type": "code",
   "execution_count": null,
   "id": "a9d0023d-9e95-4d7e-8e2f-660116e3c7d2",
   "metadata": {},
   "outputs": [],
   "source": [
    "X.shape"
   ]
  },
  {
   "cell_type": "code",
   "execution_count": null,
   "id": "4e9f48b4-8b9e-469d-adcc-4c7292c520bc",
   "metadata": {},
   "outputs": [],
   "source": [
    "y = to_categorical(labels).astype(int)"
   ]
  },
  {
   "cell_type": "code",
   "execution_count": null,
   "id": "53eccb93-1fd0-4f7c-b906-5ea5d47782ca",
   "metadata": {},
   "outputs": [],
   "source": [
    "X_train, X_test, y_train, y_test = train_test_split(X, y, test_size=0.05, shuffle=True, random_state=1)"
   ]
  },
  {
   "cell_type": "markdown",
   "id": "971b1dc2-940c-4af1-bd62-ee2f19e98b4a",
   "metadata": {},
   "source": [
    "# LSTM Model"
   ]
  },
  {
   "cell_type": "code",
   "execution_count": null,
   "id": "d22b5289-2dac-4cf5-8469-df1705d26cdc",
   "metadata": {},
   "outputs": [],
   "source": [
    "from tensorflow.keras.models import Sequential\n",
    "from tensorflow.keras.layers import LSTM, Dense, Dropout\n",
    "from tensorflow.keras.callbacks import TensorBoard\n",
    "from keras.callbacks import EarlyStopping"
   ]
  },
  {
   "cell_type": "code",
   "execution_count": null,
   "id": "0a39c9da-5de9-41bd-9560-89f196bca222",
   "metadata": {},
   "outputs": [],
   "source": [
    "early_stopping = EarlyStopping(restore_best_weights=True, patience=10)"
   ]
  },
  {
   "cell_type": "code",
   "execution_count": null,
   "id": "d190e4e6-a82e-4319-9e60-8a06ba0fde77",
   "metadata": {},
   "outputs": [],
   "source": [
    "model = Sequential()\n",
    "model.add(LSTM(64, return_sequences=True, activation=\"relu\", input_shape=(100, 126)))\n",
    "\n",
    "model.add(LSTM(128, return_sequences=True, activation=\"relu\"))\n",
    "\n",
    "model.add(LSTM(64, return_sequences=False, activation=\"relu\"))\n",
    "\n",
    "model.add(Dense(64, activation=\"relu\"))\n",
    "\n",
    "\n",
    "model.add(Dense(32, activation=\"relu\"))\n",
    "\n",
    "model.add(Dense(actions.shape[0], activation=\"softmax\"))"
   ]
  },
  {
   "cell_type": "code",
   "execution_count": null,
   "id": "cfca917c-2d6c-466e-be05-1bfb90ca9c89",
   "metadata": {},
   "outputs": [],
   "source": [
    "model.summary()"
   ]
  },
  {
   "cell_type": "code",
   "execution_count": null,
   "id": "7e198e30-8238-403b-bc51-55dd50050d19",
   "metadata": {},
   "outputs": [],
   "source": [
    "model.compile(optimizer=\"Adam\", loss=\"categorical_crossentropy\", metrics=[\"categorical_accuracy\"])"
   ]
  },
  {
   "cell_type": "code",
   "execution_count": null,
   "id": "05ae0856-01c1-44bb-8272-3be7d2f33bb4",
   "metadata": {},
   "outputs": [],
   "source": [
    "log_dir = os.path.join(\"Logs\")\n",
    "tb_callbacks = TensorBoard(log_dir=log_dir)"
   ]
  },
  {
   "cell_type": "code",
   "execution_count": null,
   "id": "3013c813-edd8-4bff-9dd8-dc54efef0caa",
   "metadata": {},
   "outputs": [],
   "source": [
    "model.fit(X_train, y_train, epochs=100, callbacks=[tb_callbacks])"
   ]
  },
  {
   "cell_type": "code",
   "execution_count": null,
   "id": "015f81f5-6ae7-458b-bf8c-61c851e9869d",
   "metadata": {},
   "outputs": [],
   "source": [
    "model_eval_loss, model_eval_acc = model.evaluate(X_test, y_test)\n",
    "date_time_format = '%Y_%m_%d__%H_%M_%S'\n",
    "current_date_time_dt = dt.datetime.now()\n",
    "current_date_time_str = dt.datetime.strftime(current_date_time_dt, date_time_format)\n",
    "MODEL_PATH = os.path.join(\"D:\\mediapipe_projects\\hand_gesture_medium\\models\")\n",
    "\n",
    "model_name = f'model__date_time_{current_date_time_str}__loss_{model_eval_loss}__acc_{model_eval_acc}__hand.h5'\n",
    "model_folder_path = os.path.join(MODEL_PATH, model_name)\n",
    "model.save(model_folder_path)"
   ]
  },
  {
   "cell_type": "code",
   "execution_count": null,
   "id": "d1cffdc0-ecdf-4c71-9881-b48785340f3c",
   "metadata": {},
   "outputs": [],
   "source": [
    "model_name = f'model__date_time_{current_date_time_str}__loss_{model_eval_loss}__acc_{model_eval_acc}__hand.keras'\n",
    "model_folder_path = os.path.join(MODEL_PATH, model_name)\n",
    "model.save(model_folder_path)"
   ]
  },
  {
   "cell_type": "code",
   "execution_count": null,
   "id": "9260f2be-7871-454e-a21d-6dc1d5c6db85",
   "metadata": {},
   "outputs": [],
   "source": [
    "from sklearn.metrics import multilabel_confusion_matrix, accuracy_score"
   ]
  },
  {
   "cell_type": "code",
   "execution_count": null,
   "id": "468964bc-020a-4bf1-a63b-c7763a0441a8",
   "metadata": {},
   "outputs": [],
   "source": [
    "yhat = model.predict(X_test)"
   ]
  },
  {
   "cell_type": "code",
   "execution_count": null,
   "id": "9006fc0a-42ca-4e3a-9ee0-fefcc9772945",
   "metadata": {},
   "outputs": [],
   "source": [
    "ytrue = np.argmax(y_test, axis=1).tolist()\n",
    "yhat = np.argmax(yhat, axis=1).tolist()"
   ]
  },
  {
   "cell_type": "code",
   "execution_count": null,
   "id": "714f9596-b3b4-49f4-880d-87230843415c",
   "metadata": {},
   "outputs": [],
   "source": [
    "multilabel_confusion_matrix(ytrue, yhat)"
   ]
  },
  {
   "cell_type": "code",
   "execution_count": null,
   "id": "333cedbe-bf03-4b30-9a96-fda6e7c0932f",
   "metadata": {},
   "outputs": [],
   "source": [
    "accuracy_score(ytrue, yhat)"
   ]
  },
  {
   "cell_type": "code",
   "execution_count": null,
   "id": "381221b0-b36e-4d81-9981-3ca35a896917",
   "metadata": {},
   "outputs": [],
   "source": [
    "import joblib"
   ]
  },
  {
   "cell_type": "code",
   "execution_count": null,
   "id": "f704ab4e-7394-474a-94e4-a890cc9c948d",
   "metadata": {},
   "outputs": [],
   "source": [
    "date_time_format = '%Y_%m_%d_%H_%M_%S'\n",
    "current_date_time = dt.datetime.now()\n",
    "current_date_stamp = dt.datetime.strftime(current_date_time, date_time_format)"
   ]
  },
  {
   "cell_type": "code",
   "execution_count": null,
   "id": "8576b008-5d53-4b46-8362-44d555d1560c",
   "metadata": {},
   "outputs": [],
   "source": [
    "MODEL_PATH = os.path.join(\"D:\\mediapipe_projects\\hand_gesture_medium\\models\")\n",
    "model_name_pkl = f'model_date_time_{current_date_time_str}__Loss_{model_eval_loss}__acc_{model_eval_acc}_hand.pkl'\n",
    "model_folder_path = os.path.join(MODEL_PATH, model_name_pkl)\n",
    "joblib.dump(model, model_folder_path)"
   ]
  },
  {
   "cell_type": "code",
   "execution_count": null,
   "id": "b734bf48-cec9-4f8b-a714-a7560e0153fe",
   "metadata": {},
   "outputs": [],
   "source": [
    "# Python garbage collector to release unused memory by making use of the gc module\n",
    "import gc\n",
    "gc.collect()"
   ]
  },
  {
   "cell_type": "code",
   "execution_count": null,
   "id": "05195903-a286-49b3-bb72-ed099fe83e96",
   "metadata": {},
   "outputs": [],
   "source": []
  }
 ],
 "metadata": {
  "kernelspec": {
   "display_name": "Python 3 (ipykernel)",
   "language": "python",
   "name": "python3"
  },
  "language_info": {
   "codemirror_mode": {
    "name": "ipython",
    "version": 3
   },
   "file_extension": ".py",
   "mimetype": "text/x-python",
   "name": "python",
   "nbconvert_exporter": "python",
   "pygments_lexer": "ipython3",
   "version": "3.11.7"
  }
 },
 "nbformat": 4,
 "nbformat_minor": 5
}
