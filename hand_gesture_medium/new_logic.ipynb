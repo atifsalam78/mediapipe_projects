{
 "cells": [
  {
   "cell_type": "code",
   "execution_count": 1,
   "id": "c24f0f7e-e030-4b94-ad15-a41c1362db87",
   "metadata": {},
   "outputs": [],
   "source": [
    "import cv2 as cv\n",
    "import numpy as np\n",
    "import os\n",
    "from matplotlib import pyplot as plt\n",
    "import time\n",
    "import mediapipe as mp"
   ]
  },
  {
   "cell_type": "code",
   "execution_count": 2,
   "id": "1ec34db4-7b4c-4e45-a15e-bca70a9dcba8",
   "metadata": {},
   "outputs": [],
   "source": [
    "mp_holistic = mp.solutions.holistic   # Holistic model\n",
    "mp_drawing = mp.solutions.drawing_utils # Drawing utilities"
   ]
  },
  {
   "cell_type": "code",
   "execution_count": 3,
   "id": "945649b2-a893-44a5-a308-0063253c8f10",
   "metadata": {},
   "outputs": [],
   "source": [
    "def count_files(folder_path):\n",
    "    folder_len = len([name for name in os.listdir(folder_path) if os.path.isfile(os.path.join(folder_path, name))])\n",
    "    return folder_len\n",
    "\n",
    "# folder_path = \"D:/mediapipe_projects/hand_gesture_medium/workspace/images/collected_images/train/yes\"\n",
    "# num_files = count_files(folder_path)\n",
    "# print(\"{} files in your folder\".format(num_files))"
   ]
  },
  {
   "cell_type": "code",
   "execution_count": 4,
   "id": "46c28f2e-f1d9-442e-876a-e4c52a8c401b",
   "metadata": {},
   "outputs": [],
   "source": [
    "def read_file_names(folder_path):\n",
    "    file_name = [name for name in os.listdir(folder_path) if os.path.isfile(os.path.join(folder_path, name))]\n",
    "    return file_name\n",
    "# folder_path = \"D:/mediapipe_projects/hand_gesture_medium/workspace/images/collected_images/train/yes\"\n",
    "# file_names = read_file_names(folder_path)\n",
    "# print(\"File names in the folder\")\n",
    "# for file_name in file_names:\n",
    "#     print(file_name)    "
   ]
  },
  {
   "cell_type": "code",
   "execution_count": 5,
   "id": "e0e7902c-7e2c-496d-9eeb-97730a72567c",
   "metadata": {},
   "outputs": [],
   "source": [
    "def mediapipe_detection(image, model):    \n",
    "    image = cv.cvtColor(image, cv.COLOR_BGR2RGB) # Color conversion from BGR to RGB\n",
    "    image.flags.writeable = False                  # Image is no longe writeable\n",
    "    results = model.process(image)                 # Make prediction\n",
    "    image.flags.writeable = True                   # Image is now writeable\n",
    "    image = cv.cvtColor(image, cv.COLOR_RGB2BGR) # Color converson from RGB to BGR\n",
    "    return image, results"
   ]
  },
  {
   "cell_type": "code",
   "execution_count": 6,
   "id": "ac389f4e-d348-4b2c-b4a1-b046c182562a",
   "metadata": {},
   "outputs": [],
   "source": [
    "def draw_styled_landmarks(image, results):\n",
    "    # Draw Face connections - if we want just outlines of the face\n",
    "    mp_drawing.draw_landmarks(image, results.face_landmarks, mp_holistic.FACEMESH_CONTOURS,\n",
    "                             mp_drawing.DrawingSpec(color=(80,110,10), thickness=1, circle_radius=1),\n",
    "                             mp_drawing.DrawingSpec(color=(80,256,121), thickness=1, circle_radius=1)\n",
    "                             )\n",
    "\n",
    "                            # OR if we want mesh\n",
    "    # mp_drawing.draw_landmarks(image, results.face_landmarks, mp_holistic.FACEMESH_TESSELATION,\n",
    "    #                          mp_drawing.DrawingSpec(color=(80,110,10), thickness=1, circle_radius=1),\n",
    "    #                          mp_drawing.DrawingSpec(color=(80,256,121), thickness=1, circle_radius=1)\n",
    "    #                          )\n",
    "    \n",
    "    # Draw Pose connections\n",
    "    mp_drawing.draw_landmarks(image, results.pose_landmarks, mp_holistic.POSE_CONNECTIONS,\n",
    "                             mp_drawing.DrawingSpec(color=(80,22,10), thickness=2, circle_radius=2),\n",
    "                             mp_drawing.DrawingSpec(color=(80,44,121), thickness=2, circle_radius=2)\n",
    "                             )\n",
    "    \n",
    "    # Draw Left hand connections\n",
    "    mp_drawing.draw_landmarks(image, results.left_hand_landmarks, mp_holistic.HAND_CONNECTIONS,\n",
    "                             mp_drawing.DrawingSpec(color=(121,22,76), thickness=2, circle_radius=2),\n",
    "                             mp_drawing.DrawingSpec(color=(121,44,121), thickness=2, circle_radius=2)\n",
    "                             )\n",
    "    # Draw Right hand connections\n",
    "    mp_drawing.draw_landmarks(image, results.right_hand_landmarks, mp_holistic.HAND_CONNECTIONS,\n",
    "                             mp_drawing.DrawingSpec(color=(245,117,66), thickness=2, circle_radius=2),\n",
    "                             mp_drawing.DrawingSpec(color=(245,66,230), thickness=2, circle_radius=2)\n",
    "                             )"
   ]
  },
  {
   "cell_type": "code",
   "execution_count": 7,
   "id": "8a813190-ee1e-4944-9f2c-64712bdaca1f",
   "metadata": {},
   "outputs": [],
   "source": [
    "def extract_keypoints(results):\n",
    "    pose = np.array([[res.x, res.y, res.z, res.visibility] for res in results.pose_landmarks.landmark]).flatten() if results.pose_landmarks else np.zeros(33*4)\n",
    "    face = np.array([[res.x, res.y, res.z] for res in results.face_landmarks.landmark]).flatten() if results.face_landmarks else np.zeros(468*3)\n",
    "    lh = np.array([[res.x, res.y, res.z] for res in results.left_hand_landmarks.landmark]).flatten() if results.left_hand_landmarks else np.zeros(21*3)\n",
    "    rh = np.array([[res.x, res.y, res.z] for res in results.right_hand_landmarks.landmark]).flatten() if results.right_hand_landmarks else np.zeros(21*3)\n",
    "    return np.concatenate([pose, face, lh, rh])"
   ]
  },
  {
   "cell_type": "code",
   "execution_count": null,
   "id": "b890500c-ddd9-4d0d-b99c-57051b1a4d33",
   "metadata": {},
   "outputs": [
    {
     "name": "stderr",
     "output_type": "stream",
     "text": [
      "C:\\Users\\atif\\anaconda3\\Lib\\site-packages\\google\\protobuf\\symbol_database.py:55: UserWarning: SymbolDatabase.GetPrototype() is deprecated. Please use message_factory.GetMessageClass() instead. SymbolDatabase.GetPrototype() will be removed soon.\n",
      "  warnings.warn('SymbolDatabase.GetPrototype() is deprecated. Please '\n"
     ]
    }
   ],
   "source": [
    "# Path for exported data, numpy arrays\n",
    "DATA_PATH = os.path.join('MP_Data') \n",
    "\n",
    "# Actions that we try to detect\n",
    "actions = np.array(['hello', 'thanks', 'iloveyou', 'yes', 'no'])\n",
    "\n",
    "with mp_holistic.Holistic(min_detection_confidence=0.7, min_tracking_confidence=0.5) as holistic:\n",
    "    for action in actions:\n",
    "        folder_path = \"D:/mediapipe_projects/hand_gesture_medium/workspace/images/collected_images/train/{}\".format(action)\n",
    "        num_files = count_files(folder_path)\n",
    "        for sequence in range(num_files):\n",
    "            os.makedirs(os.path.join(DATA_PATH, action, str(sequence)))\n",
    "            for frame_num in range(num_files):\n",
    "                file_names = read_file_names(folder_path)\n",
    "                for file_name in file_names:\n",
    "                    file_path = folder_path + \"/{}\".format(file_name)                \n",
    "                    \n",
    "                    image = cv.imread(file_path)\n",
    "                    if image is None:\n",
    "                        print(\"Error: could not load the image {}\".format(file_name))\n",
    "                    else:\n",
    "                        image, results = mediapipe_detection(image, holistic) # Make Detection\n",
    "                        draw_styled_landmarks(image, results) # Draw Landmarks\n",
    "                        keypoints = extract_keypoints(results) # Extract key points\n",
    "                        npy_path = os.path.join(DATA_PATH, action, str(sequence), str(frame_num))\n",
    "                        np.save(npy_path, keypoints)"
   ]
  },
  {
   "cell_type": "code",
   "execution_count": null,
   "id": "de2f561d-d211-4a64-9597-24460576e048",
   "metadata": {},
   "outputs": [],
   "source": []
  }
 ],
 "metadata": {
  "kernelspec": {
   "display_name": "Python 3 (ipykernel)",
   "language": "python",
   "name": "python3"
  },
  "language_info": {
   "codemirror_mode": {
    "name": "ipython",
    "version": 3
   },
   "file_extension": ".py",
   "mimetype": "text/x-python",
   "name": "python",
   "nbconvert_exporter": "python",
   "pygments_lexer": "ipython3",
   "version": "3.11.7"
  }
 },
 "nbformat": 4,
 "nbformat_minor": 5
}
