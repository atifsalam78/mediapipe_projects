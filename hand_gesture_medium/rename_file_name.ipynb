{
 "cells": [
  {
   "cell_type": "markdown",
   "id": "432c4642-845a-4fcb-8bd7-59454b7f33bf",
   "metadata": {},
   "source": [
    "# Rename Files"
   ]
  },
  {
   "cell_type": "code",
   "execution_count": 80,
   "id": "7f009c09-cc86-4a35-a5cf-5a7be129d767",
   "metadata": {},
   "outputs": [
    {
     "name": "stdout",
     "output_type": "stream",
     "text": [
      "Directory 'hello' does not exists\n",
      "Directory 'iloveyou' does not exists\n",
      "Directory 'no' does not exists\n",
      "Directory 'yes' does not exists\n",
      "Directory 'thanks' does not exists\n"
     ]
    }
   ],
   "source": [
    "import os\n",
    "\n",
    "def rename_file(path, dir_names):   \n",
    "    for dir_name in dir_names:        \n",
    "        dir_path = os.path.join(path, dir_name)\n",
    "\n",
    "        # check if the directory exists\n",
    "        if os.path.exists(dir_path):\n",
    "            original_file_name = [name for name in os.listdir(dir_path) \n",
    "                              if os.path.isfile(os.path.join(dir_path, name))]\n",
    "\n",
    "            # create new directory if not exists\n",
    "            new_dir_path = os.path.join(path, \"all_images\")\n",
    "            \n",
    "            if not os.path.exists(new_dir_path):\n",
    "                os.makedirs(new_dir_path)            \n",
    "                \n",
    "        \n",
    "        for index, file in enumerate(original_file_name):\n",
    "            file_path = os.path.join(dir_path, file)\n",
    "            file_extension = file.split('.')[-1]\n",
    "            new_file = f\"{dir_name}_{index}.{file_extension}\"\n",
    "            new_file_path = os.path.join(new_dir_path, new_file)\n",
    "            os.rename(file_path, new_file_path)\n",
    "            \n",
    "        else:\n",
    "            print(f\"Directory '{dir_name}' does not exists\")\n",
    "\n",
    "            \n",
    "\n",
    "        \n",
    "        # rename_file_name = [f\"{dir}_{i+1}.{name.split('.')[-1]}\" for i, name in enumerate(os.listdir(dir_path)) if os.path.isfile(os.path.join(dir_path, name))]\n",
    "        # rename_file_name = [f\"{name.split('.')[0]}_{dir}_{i+1}.{name.split('.')[-1]}\" for i, name in enumerate(os.listdir(dir_path)) if os.path.isfile(os.path.join(dir_path, name))]\n",
    "            \n",
    "dir_names = [\"hello\", \"iloveyou\", \"no\", \"yes\", \"thanks\"]\n",
    "DATA_PATH = \"D:/workspace/images/collected_images/handgestures\"\n",
    "\n",
    "rename_file(DATA_PATH, dir_names)"
   ]
  },
  {
   "cell_type": "markdown",
   "id": "54dce5aa-a857-459f-9482-be615ced6d15",
   "metadata": {},
   "source": [
    "# Copy and Rename Files"
   ]
  },
  {
   "cell_type": "code",
   "execution_count": 87,
   "id": "18308c5f-7529-4139-b48d-ac2266a5c211",
   "metadata": {},
   "outputs": [],
   "source": [
    "import os  \n",
    "import shutil  \n",
    "\n",
    "def copy_and_rename_file(path, dir_names):  \n",
    "    new_dir_path = os.path.join(path, \"all_images\")  \n",
    "    if not os.path.exists(new_dir_path):  \n",
    "        os.makedirs(new_dir_path)  \n",
    "\n",
    "    for dir_name in dir_names:  \n",
    "        dir_path = os.path.join(path, dir_name)  \n",
    "\n",
    "        # check if the directory exists  \n",
    "        if os.path.exists(dir_path):  \n",
    "            original_file_name = [name for name in os.listdir(dir_path)   \n",
    "                                  if os.path.isfile(os.path.join(dir_path, name))]  \n",
    "\n",
    "            for index, file in enumerate(original_file_name):  \n",
    "                file_path = os.path.join(dir_path, file)  \n",
    "                file_extension = file.split('.')[-1]  \n",
    "                new_file = f\"{dir_name}_{index}.{file_extension}\"  \n",
    "                new_file_path = os.path.join(new_dir_path, new_file)  \n",
    "                shutil.copy2(file_path, new_file_path)  \n",
    "                # use copy2 instead of copy to preserve the metadata of the file\n",
    "        else:  \n",
    "            print(f\"Directory '{dir_name}' does not exist\")  \n",
    "\n",
    "dir_names = [\"hello\", \"iloveyou\", \"no\", \"yes\", \"thanks\"]  \n",
    "DATA_PATH = \"D:/workspace/images/collected_images/handgestures\"  \n",
    "\n",
    "copy_and_rename_file(DATA_PATH, dir_names)"
   ]
  },
  {
   "cell_type": "code",
   "execution_count": null,
   "id": "4bcf6014-ba7e-4dea-9aef-3db88e725201",
   "metadata": {},
   "outputs": [],
   "source": []
  }
 ],
 "metadata": {
  "kernelspec": {
   "display_name": "Python 3 (ipykernel)",
   "language": "python",
   "name": "python3"
  },
  "language_info": {
   "codemirror_mode": {
    "name": "ipython",
    "version": 3
   },
   "file_extension": ".py",
   "mimetype": "text/x-python",
   "name": "python",
   "nbconvert_exporter": "python",
   "pygments_lexer": "ipython3",
   "version": "3.11.7"
  }
 },
 "nbformat": 4,
 "nbformat_minor": 5
}
