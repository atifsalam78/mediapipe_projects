{
 "cells": [
  {
   "cell_type": "code",
   "execution_count": 1,
   "id": "7eb334d9-0437-493e-a8a6-584b07a19a14",
   "metadata": {},
   "outputs": [],
   "source": [
    "import mediapipe as mp\n",
    "import cv2 as cv"
   ]
  },
  {
   "cell_type": "code",
   "execution_count": 21,
   "id": "d2fd5e52-c435-4d1f-a623-660cceae61a3",
   "metadata": {},
   "outputs": [],
   "source": [
    "mp_drawings = mp.solutions.drawing_utils\n",
    "mp_hands = mp.solutions.hands\n",
    "\n",
    "cap = cv.VideoCapture(0)\n",
    "cap.set(3, 1280)\n",
    "\n",
    "with mp_hands.Hands(min_detection_confidence=0.8, min_tracking_confidence=0.5) as hands:\n",
    "    while cap.isOpened():\n",
    "        ret, frame = cap.read()\n",
    "        frame = cv.flip(frame, 1)\n",
    "        image = cv.cvtColor(frame, cv.COLOR_BGR2RGB)\n",
    "        detected_image = hands.process(image)\n",
    "        image = cv.cvtColor(image, cv.COLOR_RGB2BGR)\n",
    "\n",
    "        if detected_image.multi_hand_landmarks:\n",
    "            for hand_lms in detected_image.multi_hand_landmarks:\n",
    "                mp_drawings.draw_landmarks(image, hand_lms, mp_hands.HAND_CONNECTIONS,\n",
    "                                          landmark_drawing_spec=mp.solutions.drawing_utils.DrawingSpec(color=(255,0,255), thickness=4, circle_radius=2),\n",
    "                                          connection_drawing_spec=mp.solutions.drawing_utils.DrawingSpec(color=(20,180,90), thickness=4, circle_radius=2)\n",
    "                                          )\n",
    "        cv.imshow(\"Hand Gesture\", image)\n",
    "        if cv.waitKey(1) & 0xFF == ord(\"q\"):\n",
    "            break\n",
    "    cap.release()\n",
    "    cv.destroyAllWindows()"
   ]
  },
  {
   "cell_type": "code",
   "execution_count": 9,
   "id": "fa3d38a5-873b-4734-8cf0-78938039915c",
   "metadata": {},
   "outputs": [],
   "source": []
  },
  {
   "cell_type": "code",
   "execution_count": null,
   "id": "59bd7f36-dea9-4d8a-b9f1-6724e9728279",
   "metadata": {},
   "outputs": [],
   "source": []
  }
 ],
 "metadata": {
  "kernelspec": {
   "display_name": "Python 3 (ipykernel)",
   "language": "python",
   "name": "python3"
  },
  "language_info": {
   "codemirror_mode": {
    "name": "ipython",
    "version": 3
   },
   "file_extension": ".py",
   "mimetype": "text/x-python",
   "name": "python",
   "nbconvert_exporter": "python",
   "pygments_lexer": "ipython3",
   "version": "3.11.7"
  }
 },
 "nbformat": 4,
 "nbformat_minor": 5
}
