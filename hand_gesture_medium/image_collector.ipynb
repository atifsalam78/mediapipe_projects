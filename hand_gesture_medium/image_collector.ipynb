{
 "cells": [
  {
   "cell_type": "code",
   "execution_count": 1,
   "id": "cab77914-c1bd-4bc8-8908-83149b05ee9b",
   "metadata": {},
   "outputs": [],
   "source": [
    "import cv2 as cv\n",
    "import os\n",
    "import time\n",
    "import uuid"
   ]
  },
  {
   "cell_type": "code",
   "execution_count": 3,
   "id": "7d93b218-0e78-41c4-bf42-73b4f5b4f056",
   "metadata": {},
   "outputs": [],
   "source": [
    "IMAGES_PATH = \"D:\\mediapipe_projects\\hand_gesture_medium\\workspace\\images\\collected_images\""
   ]
  },
  {
   "cell_type": "code",
   "execution_count": 5,
   "id": "cc6205fd-9bb5-4737-b64d-a045737bb084",
   "metadata": {},
   "outputs": [],
   "source": [
    "labels = [\"hello\", \"iloveyou\", \"thanks\", \"yes\", \"no\"]\n",
    "number_image = 15"
   ]
  },
  {
   "cell_type": "code",
   "execution_count": 7,
   "id": "f6426e20-bcd2-43f3-aac7-6df49c411595",
   "metadata": {},
   "outputs": [
    {
     "name": "stdout",
     "output_type": "stream",
     "text": [
      "Collected Images for hello\n",
      "Collected Images for iloveyou\n",
      "Collected Images for thanks\n",
      "Collected Images for yes\n",
      "Collected Images for no\n"
     ]
    }
   ],
   "source": [
    "for label in labels:\n",
    "    !mkdir {\"D:\\mediapipe_projects\\hand_gesture_medium\\workspace\\images\\collected_images\\\\\"+label}\n",
    "    cap = cv.VideoCapture(0)\n",
    "    while cap.isOpened():\n",
    "        print(\"Collected Images for {}\".format(label))\n",
    "        time.sleep(5)\n",
    "        for imgnum in range(number_image):\n",
    "            ret, frame = cap.read()\n",
    "            imgname = os.path.join(IMAGES_PATH, label, label+\".\"+\"{}.jpg\".format(str(uuid.uuid1())))\n",
    "            cv.imwrite(imgname, frame)\n",
    "            cv.imshow(\"frame\", frame)\n",
    "            time.sleep(2)\n",
    "            if cv.waitKey(1) & 0xFF == ord(\"q\"):\n",
    "                break\n",
    "        cap.release()"
   ]
  },
  {
   "cell_type": "code",
   "execution_count": 11,
   "id": "6c2cda21-b2e5-4e5c-a719-6b5a3a8f21bb",
   "metadata": {},
   "outputs": [
    {
     "name": "stderr",
     "output_type": "stream",
     "text": [
      "A subdirectory or file D:\\mediapipe_projects\\hand_gesture_medium\\workspace\\images\\collected_images\\hello already exists.\n"
     ]
    },
    {
     "name": "stdout",
     "output_type": "stream",
     "text": [
      "Collected Images for hello\n"
     ]
    },
    {
     "name": "stderr",
     "output_type": "stream",
     "text": [
      "A subdirectory or file D:\\mediapipe_projects\\hand_gesture_medium\\workspace\\images\\collected_images\\iloveyou already exists.\n"
     ]
    },
    {
     "name": "stdout",
     "output_type": "stream",
     "text": [
      "Collected Images for iloveyou\n"
     ]
    },
    {
     "name": "stderr",
     "output_type": "stream",
     "text": [
      "A subdirectory or file D:\\mediapipe_projects\\hand_gesture_medium\\workspace\\images\\collected_images\\thanks already exists.\n"
     ]
    },
    {
     "name": "stdout",
     "output_type": "stream",
     "text": [
      "Collected Images for thanks\n"
     ]
    },
    {
     "name": "stderr",
     "output_type": "stream",
     "text": [
      "A subdirectory or file D:\\mediapipe_projects\\hand_gesture_medium\\workspace\\images\\collected_images\\yes already exists.\n"
     ]
    },
    {
     "name": "stdout",
     "output_type": "stream",
     "text": [
      "Collected Images for yes\n"
     ]
    },
    {
     "name": "stderr",
     "output_type": "stream",
     "text": [
      "A subdirectory or file D:\\mediapipe_projects\\hand_gesture_medium\\workspace\\images\\collected_images\\no already exists.\n"
     ]
    },
    {
     "name": "stdout",
     "output_type": "stream",
     "text": [
      "Collected Images for no\n"
     ]
    },
    {
     "name": "stderr",
     "output_type": "stream",
     "text": [
      "A subdirectory or file D:\\mediapipe_projects\\hand_gesture_medium\\workspace\\images\\collected_images\\hello already exists.\n"
     ]
    },
    {
     "name": "stdout",
     "output_type": "stream",
     "text": [
      "Collected Images for hello\n"
     ]
    },
    {
     "name": "stderr",
     "output_type": "stream",
     "text": [
      "\n",
      "KeyboardInterrupt\n",
      "\n"
     ]
    }
   ],
   "source": [
    "cap = cv.VideoCapture(0)\n",
    "\n",
    "while cap.isOpened():\n",
    "    for label in labels:\n",
    "        !mkdir {\"D:\\mediapipe_projects\\hand_gesture_medium\\workspace\\images\\collected_images\\\\\"+label}\n",
    "        print(\"Collected Images for {}\".format(label))\n",
    "        time.sleep(5)\n",
    "        for imgnum in range(number_image):\n",
    "            ret, frame = cap.read()\n",
    "            imgname = os.path.join(IMAGES_PATH, label, label+\".\"+\"{}.jpg\".format(str(uuid.uuid1())))\n",
    "            cv.imwrite(imgname, frame)\n",
    "            cv.imshow(\"frame\", frame)\n",
    "            time.sleep(2)\n",
    "            if cv.waitKey(1) & 0xFF == ord(\"q\"):\n",
    "                break\n",
    "cap.release()"
   ]
  },
  {
   "cell_type": "code",
   "execution_count": null,
   "id": "0c1d05ee-936e-4bf0-a623-136832e43266",
   "metadata": {},
   "outputs": [],
   "source": []
  }
 ],
 "metadata": {
  "kernelspec": {
   "display_name": "Python 3 (ipykernel)",
   "language": "python",
   "name": "python3"
  },
  "language_info": {
   "codemirror_mode": {
    "name": "ipython",
    "version": 3
   },
   "file_extension": ".py",
   "mimetype": "text/x-python",
   "name": "python",
   "nbconvert_exporter": "python",
   "pygments_lexer": "ipython3",
   "version": "3.11.7"
  }
 },
 "nbformat": 4,
 "nbformat_minor": 5
}
