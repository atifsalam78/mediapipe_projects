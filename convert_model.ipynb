{
 "cells": [
  {
   "cell_type": "code",
   "execution_count": 9,
   "id": "87f8f582-b76c-483d-b793-434f1bcdf9d9",
   "metadata": {},
   "outputs": [],
   "source": [
    "import tensorflow as tf"
   ]
  },
  {
   "cell_type": "markdown",
   "id": "8936f22e-a903-44c6-9a93-f1601b678f1f",
   "metadata": {},
   "source": [
    "# Step 1: Save the Keras model in HDF5 format"
   ]
  },
  {
   "cell_type": "markdown",
   "id": "a2ecda38-257c-4e92-b3b4-1d2d13b62150",
   "metadata": {},
   "source": [
    "# Step 2: Convert the Keras model to TensorFlow"
   ]
  },
  {
   "cell_type": "code",
   "execution_count": 11,
   "id": "b5c20c70-a998-4827-bad3-f7028dac93ff",
   "metadata": {},
   "outputs": [
    {
     "name": "stdout",
     "output_type": "stream",
     "text": [
      "INFO:tensorflow:Assets written to: action_tf\\assets\n"
     ]
    },
    {
     "name": "stderr",
     "output_type": "stream",
     "text": [
      "INFO:tensorflow:Assets written to: action_tf\\assets\n"
     ]
    }
   ],
   "source": [
    "# Load the Keras model  \n",
    "keras_model = tf.keras.models.load_model('action.h5')  \n",
    "\n",
    "# Save the Keras model as a TensorFlow SavedModel  \n",
    "tf.saved_model.save(keras_model, 'action_tf') "
   ]
  },
  {
   "cell_type": "markdown",
   "id": "e693b378-6132-4d3c-87bd-d51aad889eb4",
   "metadata": {},
   "source": [
    "# Step 3: Freeze the TensorFlow SavedModel"
   ]
  },
  {
   "cell_type": "code",
   "execution_count": 13,
   "id": "2dae5414-1585-4503-86d9-bd055f24463d",
   "metadata": {},
   "outputs": [
    {
     "name": "stdout",
     "output_type": "stream",
     "text": [
      "INFO:tensorflow:Assets written to: model_tf_frozen\\assets\n"
     ]
    },
    {
     "name": "stderr",
     "output_type": "stream",
     "text": [
      "INFO:tensorflow:Assets written to: model_tf_frozen\\assets\n"
     ]
    }
   ],
   "source": [
    "# Load the TensorFlow SavedModel  \n",
    "saved_model = tf.saved_model.load('action_tf')  \n",
    "\n",
    "# Freeze the SavedModel  \n",
    "tf.saved_model.save(saved_model, 'model_tf_frozen', signatures=None) "
   ]
  },
  {
   "cell_type": "markdown",
   "id": "2c4db8ea-3474-4326-aa3b-7cd3002bfdb2",
   "metadata": {},
   "source": [
    "# Step 4: Convert the frozen TensorFlow model to TensorFlow Lite (TFLite)"
   ]
  },
  {
   "cell_type": "code",
   "execution_count": 21,
   "id": "c4e31ed6-0364-4043-8a3f-23f2baa4bdae",
   "metadata": {},
   "outputs": [
    {
     "name": "stdout",
     "output_type": "stream",
     "text": [
      "INFO:tensorflow:Assets written to: C:\\Users\\atif\\AppData\\Local\\Temp\\tmp73qizg6c\\assets\n"
     ]
    },
    {
     "name": "stderr",
     "output_type": "stream",
     "text": [
      "INFO:tensorflow:Assets written to: C:\\Users\\atif\\AppData\\Local\\Temp\\tmp73qizg6c\\assets\n"
     ]
    }
   ],
   "source": [
    "# Load the Keras model  \n",
    "keras_model = tf.keras.models.load_model('action.h5')  \n",
    "\n",
    "# Create a TFLite converter with the required settings  \n",
    "converter = tf.lite.TFLiteConverter.from_keras_model(keras_model)  \n",
    "\n",
    "# Enable the use of SELECT TF ops to support tensor list ops  \n",
    "converter.target_spec.supported_ops = [tf.lite.OpsSet.TFLITE_BUILTINS, tf.lite.OpsSet.SELECT_TF_OPS]  \n",
    "\n",
    "# Disable the experimental lowering of tensor list ops  \n",
    "converter._experimental_lower_tensor_list_ops = False  \n",
    "\n",
    "# Convert the model to TFLite  \n",
    "tflite_model = converter.convert()  \n",
    "\n",
    "# Save the TFLite model  \n",
    "with open('action.tflite', 'wb') as f:  \n",
    "    f.write(tflite_model)"
   ]
  },
  {
   "cell_type": "code",
   "execution_count": 37,
   "id": "2c3183db-9612-4654-881d-5cd6b2e9182e",
   "metadata": {},
   "outputs": [
    {
     "ename": "AttributeError",
     "evalue": "module 'mediapipe.python.solutions' has no attribute 'tflite'",
     "output_type": "error",
     "traceback": [
      "\u001b[1;31m---------------------------------------------------------------------------\u001b[0m",
      "\u001b[1;31mAttributeError\u001b[0m                            Traceback (most recent call last)",
      "Cell \u001b[1;32mIn[37], line 4\u001b[0m\n\u001b[0;32m      1\u001b[0m \u001b[38;5;28;01mimport\u001b[39;00m \u001b[38;5;21;01mmediapipe\u001b[39;00m \u001b[38;5;28;01mas\u001b[39;00m \u001b[38;5;21;01mmp\u001b[39;00m  \n\u001b[0;32m      3\u001b[0m \u001b[38;5;66;03m# Load the MediaPipe solution  \u001b[39;00m\n\u001b[1;32m----> 4\u001b[0m mp\u001b[38;5;241m.\u001b[39msolutions\u001b[38;5;241m.\u001b[39mtflite\n\u001b[0;32m      6\u001b[0m \u001b[38;5;66;03m# Create a MediaPipe TFLite model  \u001b[39;00m\n\u001b[0;32m      7\u001b[0m tflite_model \u001b[38;5;241m=\u001b[39m mp\u001b[38;5;241m.\u001b[39msolutions\u001b[38;5;241m.\u001b[39mtflite\u001b[38;5;241m.\u001b[39mTFLiteModel(  \n\u001b[0;32m      8\u001b[0m     model_path\u001b[38;5;241m=\u001b[39m\u001b[38;5;124m'\u001b[39m\u001b[38;5;124maction.tflite\u001b[39m\u001b[38;5;124m'\u001b[39m  \n\u001b[0;32m      9\u001b[0m )\n",
      "\u001b[1;31mAttributeError\u001b[0m: module 'mediapipe.python.solutions' has no attribute 'tflite'"
     ]
    }
   ],
   "source": [
    "import mediapipe as mp  \n",
    "mediapipe_model_maker.model_util.convert_to_tflite(\n",
    "    model: tf.keras.Model,\n",
    "    quantization_config: Optional[mediapipe_model_maker.quantization.QuantizationConfig] = None,\n",
    "    supported_ops: Tuple[tf.lite.OpsSet, ...] = (tf.lite.OpsSet.TFLITE_BUILTINS,),\n",
    "    preprocess: Optional[Callable[..., Any]] = None,\n",
    "    allow_custom_ops: bool = False\n",
    ") -> bytearray"
   ]
  },
  {
   "cell_type": "code",
   "execution_count": null,
   "id": "7af4da06-f6fb-4e0b-88b8-6ee26a10f0d6",
   "metadata": {},
   "outputs": [],
   "source": []
  }
 ],
 "metadata": {
  "kernelspec": {
   "display_name": "Python 3 (ipykernel)",
   "language": "python",
   "name": "python3"
  },
  "language_info": {
   "codemirror_mode": {
    "name": "ipython",
    "version": 3
   },
   "file_extension": ".py",
   "mimetype": "text/x-python",
   "name": "python",
   "nbconvert_exporter": "python",
   "pygments_lexer": "ipython3",
   "version": "3.11.7"
  }
 },
 "nbformat": 4,
 "nbformat_minor": 5
}
