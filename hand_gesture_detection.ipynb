{
 "cells": [
  {
   "cell_type": "markdown",
   "id": "7567d016-f8e5-4412-aade-cb4eca81b017",
   "metadata": {},
   "source": [
    "# Import required dependencies"
   ]
  },
  {
   "cell_type": "code",
   "execution_count": 105,
   "id": "7b862189-420d-4ce4-9eae-f9f33457b71f",
   "metadata": {},
   "outputs": [],
   "source": [
    "import cv2 as cv\n",
    "import numpy as np\n",
    "import os\n",
    "from matplotlib import pyplot as plt\n",
    "import time\n",
    "import mediapipe as mp"
   ]
  },
  {
   "cell_type": "markdown",
   "id": "f16007d5-9de2-44fd-bda1-455fbb047f6e",
   "metadata": {},
   "source": [
    "# Keypoints using Mediapipe Holistic"
   ]
  },
  {
   "cell_type": "code",
   "execution_count": 107,
   "id": "e3101e77-3bd5-4f3b-8eec-c37415605125",
   "metadata": {},
   "outputs": [],
   "source": [
    "mp_holistic = mp.solutions.holistic   # Holistic model\n",
    "mp_drawing = mp.solutions.drawing_utils # Drawing utilities"
   ]
  },
  {
   "cell_type": "code",
   "execution_count": 109,
   "id": "3b24e6c9-ca0a-4132-a713-d0a96bdcf50d",
   "metadata": {},
   "outputs": [],
   "source": [
    "def mediapipe_detection(image, model):\n",
    "    image = cv.cvtColor(image, cv.COLOR_BGR2RGB) # Color conversion from BGR to RGB\n",
    "    image.flags.writeable = False                  # Image is no longe writeable\n",
    "    results = model.process(image)                 # Make prediction\n",
    "    image.flags.writeable = True                   # Image is now writeable\n",
    "    image = cv.cvtColor(image, cv.COLOR_RGB2BGR) # Color converson from RGB to BGR\n",
    "    return image, results"
   ]
  },
  {
   "cell_type": "code",
   "execution_count": 111,
   "id": "c95dc071-bbf1-43d0-8405-54af0d36edbb",
   "metadata": {},
   "outputs": [],
   "source": [
    "def draw_landmarks(image, results):\n",
    "    mp_drawing.draw_landmarks(image, results.face_landmarks, mp_holistic.FACEMESH_TESSELATION) # Draw face connections\n",
    "    mp_drawing.draw_landmarks(image, results.pose_landmarks, mp_holistic.POSE_CONNECTIONS) # Draw pose connections\n",
    "    mp_drawing.draw_landmarks(image, results.left_hand_landmarks, mp_holistic.HAND_CONNECTIONS) # Draw left hand connections\n",
    "    mp_drawing.draw_landmarks(image, results.right_hand_landmarks, mp_holistic.HAND_CONNECTIONS) # Draw right hand connections"
   ]
  },
  {
   "cell_type": "code",
   "execution_count": 113,
   "id": "24585ba6-baf6-456a-82e6-569f024a71b6",
   "metadata": {},
   "outputs": [],
   "source": [
    "def draw_styled_landmarks(image, results):\n",
    "    # Draw Face connections - if we want just outlines of the face\n",
    "    mp_drawing.draw_landmarks(image, results.face_landmarks, mp_holistic.FACEMESH_CONTOURS,\n",
    "                             mp_drawing.DrawingSpec(color=(80,110,10), thickness=1, circle_radius=1),\n",
    "                             mp_drawing.DrawingSpec(color=(80,256,121), thickness=1, circle_radius=1)\n",
    "                             )\n",
    "\n",
    "                            # OR if we want mesh\n",
    "    # mp_drawing.draw_landmarks(image, results.face_landmarks, mp_holistic.FACEMESH_TESSELATION,\n",
    "    #                          mp_drawing.DrawingSpec(color=(80,110,10), thickness=1, circle_radius=1),\n",
    "    #                          mp_drawing.DrawingSpec(color=(80,256,121), thickness=1, circle_radius=1)\n",
    "    #                          )\n",
    "    \n",
    "    # Draw Pose connections\n",
    "    mp_drawing.draw_landmarks(image, results.pose_landmarks, mp_holistic.POSE_CONNECTIONS,\n",
    "                             mp_drawing.DrawingSpec(color=(80,22,10), thickness=2, circle_radius=2),\n",
    "                             mp_drawing.DrawingSpec(color=(80,44,121), thickness=2, circle_radius=2)\n",
    "                             )\n",
    "    \n",
    "    # Draw Left hand connections\n",
    "    mp_drawing.draw_landmarks(image, results.left_hand_landmarks, mp_holistic.HAND_CONNECTIONS,\n",
    "                             mp_drawing.DrawingSpec(color=(121,22,76), thickness=2, circle_radius=2),\n",
    "                             mp_drawing.DrawingSpec(color=(121,44,121), thickness=2, circle_radius=2)\n",
    "                             )\n",
    "    # Draw Right hand connections\n",
    "    mp_drawing.draw_landmarks(image, results.right_hand_landmarks, mp_holistic.HAND_CONNECTIONS,\n",
    "                             mp_drawing.DrawingSpec(color=(245,117,66), thickness=2, circle_radius=2),\n",
    "                             mp_drawing.DrawingSpec(color=(245,66,230), thickness=2, circle_radius=2)\n",
    "                             )"
   ]
  },
  {
   "cell_type": "code",
   "execution_count": 115,
   "id": "1372f5ec-1b5f-47b2-bcd3-574a46ba0157",
   "metadata": {},
   "outputs": [],
   "source": [
    "cap = cv.VideoCapture(0)\n",
    "\n",
    "# Set webcam width and height\n",
    "cap.set(3,1280)\n",
    "\n",
    "# Set mediapipe model\n",
    "with mp_holistic.Holistic(min_detection_confidence=0.5, min_tracking_confidence=0.5) as holistic:\n",
    "    while cap.isOpened():\n",
    "\n",
    "        # Read feed\n",
    "        ret, frame = cap.read()\n",
    "        \n",
    "        frame = cv.flip(frame, 1)\n",
    "\n",
    "        # Make detections\n",
    "        image, results = mediapipe_detection(frame, holistic)\n",
    "        # print(results)\n",
    "\n",
    "        # Draw landmarks\n",
    "        draw_styled_landmarks(image, results)\n",
    "\n",
    "        # Show to screen\n",
    "        cv.imshow(\"Opencv Feed\", image)\n",
    "\n",
    "        # Break gracefully\n",
    "        if cv.waitKey(10) & 0xFF == ord('q'):\n",
    "            break\n",
    "\n",
    "    cap.release()\n",
    "    cv.destroyAllWindows()"
   ]
  },
  {
   "cell_type": "code",
   "execution_count": 130,
   "id": "34bf1858-e1f5-40a6-af20-53dc2c0fb5c7",
   "metadata": {},
   "outputs": [],
   "source": [
    "# cap.release()\n",
    "# cv.destroyAllWindows()"
   ]
  },
  {
   "cell_type": "code",
   "execution_count": 20,
   "id": "4a085d9c-c41f-4534-8183-621dcdfad474",
   "metadata": {},
   "outputs": [],
   "source": [
    "draw_styled_landmarks(frame, results)"
   ]
  },
  {
   "cell_type": "code",
   "execution_count": 22,
   "id": "a45d65e6-d28f-4234-90e6-74b72c3e5dc2",
   "metadata": {},
   "outputs": [
    {
     "data": {
      "text/plain": [
       "<matplotlib.image.AxesImage at 0x15798620a50>"
      ]
     },
     "execution_count": 22,
     "metadata": {},
     "output_type": "execute_result"
    },
    {
     "data": {
      "image/png": "[encoded data removed]",
      "text/plain": [
       "<Figure size 640x480 with 1 Axes>"
      ]
     },
     "metadata": {},
     "output_type": "display_data"
    }
   ],
   "source": [
    "plt.imshow(cv.cvtColor(frame, cv.COLOR_BGR2RGB))"
   ]
  },
  {
   "cell_type": "code",
   "execution_count": 11,
   "id": "6f975ab8-9703-436e-9952-264ffe92d01e",
   "metadata": {},
   "outputs": [
    {
     "ename": "AttributeError",
     "evalue": "'NoneType' object has no attribute 'landmark'",
     "output_type": "error",
     "traceback": [
      "\u001b[1;31m---------------------------------------------------------------------------\u001b[0m",
      "\u001b[1;31mAttributeError\u001b[0m                            Traceback (most recent call last)",
      "Cell \u001b[1;32mIn[11], line 1\u001b[0m\n\u001b[1;32m----> 1\u001b[0m \u001b[38;5;28mlen\u001b[39m(results\u001b[38;5;241m.\u001b[39mright_hand_landmarks\u001b[38;5;241m.\u001b[39mlandmark)\n",
      "\u001b[1;31mAttributeError\u001b[0m: 'NoneType' object has no attribute 'landmark'"
     ]
    }
   ],
   "source": [
    "# len(results.right_hand_landmarks.landmark)"
   ]
  },
  {
   "cell_type": "code",
   "execution_count": 15,
   "id": "8e07dc8a-d558-43e6-a38b-ec7189669f46",
   "metadata": {},
   "outputs": [],
   "source": [
    "# pose = []\n",
    "# for res in results.pose_landmarks.landmark:\n",
    "#     test = np.array([res.x, res.y, res.z, res.visibility])\n",
    "#     pose.append(test)"
   ]
  },
  {
   "cell_type": "code",
   "execution_count": 17,
   "id": "c2d36bce-010f-4ea7-add7-5ef89a66a421",
   "metadata": {},
   "outputs": [
    {
     "data": {
      "text/plain": [
       "(4,)"
      ]
     },
     "execution_count": 17,
     "metadata": {},
     "output_type": "execute_result"
    }
   ],
   "source": [
    "# test.shape"
   ]
  },
  {
   "cell_type": "code",
   "execution_count": 117,
   "id": "3dc33cbd-03e7-4599-82ff-2807572e8b16",
   "metadata": {},
   "outputs": [],
   "source": [
    "def extract_keypoints(results):\n",
    "    pose = np.array([[res.x, res.y, res.z, res.visibility] for res in results.pose_landmarks.landmark]).flatten() if results.pose_landmarks else np.zeros(33*4)\n",
    "    face = np.array([[res.x, res.y, res.z] for res in results.face_landmarks.landmark]).flatten() if results.face_landmarks else np.zeros(468*3)\n",
    "    lh = np.array([[res.x, res.y, res.z] for res in results.left_hand_landmarks.landmark]).flatten() if results.left_hand_landmarks else np.zeros(21*3)\n",
    "    rh = np.array([[res.x, res.y, res.z] for res in results.right_hand_landmarks.landmark]).flatten() if results.right_hand_landmarks else np.zeros(21*3)\n",
    "    return np.concatenate([pose, face, lh, rh])"
   ]
  },
  {
   "cell_type": "code",
   "execution_count": 26,
   "id": "d3162521-ad17-43c8-be22-fde4ff1591e7",
   "metadata": {},
   "outputs": [
    {
     "data": {
      "text/plain": [
       "array([ 0.4599885 ,  0.49309859, -0.97429734, ...,  0.        ,\n",
       "        0.        ,  0.        ])"
      ]
     },
     "execution_count": 26,
     "metadata": {},
     "output_type": "execute_result"
    }
   ],
   "source": [
    "result_test = extract_keypoints(results)\n",
    "result_test"
   ]
  },
  {
   "cell_type": "code",
   "execution_count": 28,
   "id": "8338c51a-5ded-44fe-a56b-eec976f1fd62",
   "metadata": {},
   "outputs": [],
   "source": [
    "np.save(\"0\", result_test)"
   ]
  },
  {
   "cell_type": "code",
   "execution_count": 30,
   "id": "96987cbd-65be-4b48-9c02-9f16881da1a4",
   "metadata": {},
   "outputs": [
    {
     "data": {
      "text/plain": [
       "array([ 0.4599885 ,  0.49309859, -0.97429734, ...,  0.        ,\n",
       "        0.        ,  0.        ])"
      ]
     },
     "execution_count": 30,
     "metadata": {},
     "output_type": "execute_result"
    }
   ],
   "source": [
    "np.load(\"0.npy\")"
   ]
  },
  {
   "cell_type": "markdown",
   "id": "00376eb9-4ae9-419e-9a48-30af5a509c34",
   "metadata": {},
   "source": [
    "# Setup Folder for Collection"
   ]
  },
  {
   "cell_type": "code",
   "execution_count": 32,
   "id": "afa478dd-da56-4154-aaaa-176fd24f2dd0",
   "metadata": {},
   "outputs": [],
   "source": [
    "# Path for exported data, numpy arrays\n",
    "DATA_PATH = os.path.join('MP_Data') \n",
    "\n",
    "# Actions that we try to detect\n",
    "actions = np.array(['hello', 'thanks', 'iloveyou'])\n",
    "\n",
    "# Thirty videos worth of data\n",
    "no_sequences = 30\n",
    "\n",
    "# Videos are going to be 30 frames in length\n",
    "sequence_length = 30\n",
    "\n",
    "# Folder start\n",
    "# start_folder = 30"
   ]
  },
  {
   "cell_type": "code",
   "execution_count": 32,
   "id": "7d6ba224-c476-434b-af77-a78ae212c266",
   "metadata": {},
   "outputs": [
    {
     "name": "stdout",
     "output_type": "stream",
     "text": [
      "MP_Data\n"
     ]
    }
   ],
   "source": [
    "print(DATA_PATH)"
   ]
  },
  {
   "cell_type": "code",
   "execution_count": 119,
   "id": "1e018c8f-dd5c-4ab8-965f-83daee688321",
   "metadata": {},
   "outputs": [],
   "source": [
    "for action in actions: \n",
    "    # dirmax = np.max(np.array(os.listdir(os.path.join(DATA_PATH, action))).astype(int))\n",
    "    for sequence in range(no_sequences):\n",
    "        try: \n",
    "            os.makedirs(os.path.join(DATA_PATH, action, str(sequence)))\n",
    "        except:\n",
    "            pass"
   ]
  },
  {
   "cell_type": "markdown",
   "id": "3d629a06-fe3b-4c3b-9063-5e1cad41bdc5",
   "metadata": {},
   "source": [
    "# Collect keypoint values for Training & Testing"
   ]
  },
  {
   "cell_type": "code",
   "execution_count": 33,
   "id": "30ae129c-6b18-4cd3-8246-2eb57dc11a60",
   "metadata": {},
   "outputs": [],
   "source": [
    "cap = cv.VideoCapture(0)\n",
    "\n",
    "# Set webcam width and height\n",
    "cap.set(3,1280)\n",
    "\n",
    "# set mediapipe model\n",
    "with mp_holistic.Holistic(min_detection_confidence=0.5, min_tracking_confidence=0.5) as holistic:\n",
    "    \n",
    "    #NEW LOOP\n",
    "    # Loop through action\n",
    "    for action in actions:\n",
    "        # Loop through sequences aka videos\n",
    "        for sequence in range(no_sequences):\n",
    "            # Loop through video length aka sequences length\n",
    "            for frame_num in range(sequence_length):\n",
    "                \n",
    "                # Read Frame\n",
    "                ret, frame = cap.read()\n",
    "                frame = cv.flip(frame, 1)\n",
    "                \n",
    "                # Make detection\n",
    "                image, results = mediapipe_detection(frame, holistic)\n",
    "                \n",
    "                # Draw Landmarks\n",
    "                draw_styled_landmarks(image, results)\n",
    "                \n",
    "                # New apply wait logic\n",
    "                if frame_num == 0:\n",
    "                    cv.putText(image, \"Starting Collection\", (120,200),\n",
    "                               cv.FONT_HERSHEY_SIMPLEX, 1, (0, 255, 0), 4, cv.LINE_AA)\n",
    "                    cv.putText(image, \"Collecting frames for {} video number {}\".format(action, sequence), (15,12),\n",
    "                               cv.FONT_HERSHEY_SIMPLEX, 0.5, (0, 0, 255), 1, cv.LINE_AA)\n",
    "                    \n",
    "                    # Show to Screen\n",
    "                    cv.imshow(\"Opencv Feed\", image)\n",
    "                    cv.waitKey(300)\n",
    "                    \n",
    "                else:\n",
    "                    cv.putText(image, \"Collecting frames for {} video number {}\".format(action, sequence), (15,12),\n",
    "                               cv.FONT_HERSHEY_SIMPLEX, 0.5, (0, 0, 255), 1, cv.LINE_AA)\n",
    "                    cv.imshow(\"Opencv Feed\", image)\n",
    "\n",
    "                # New Keypoints\n",
    "                keypoints = extract_keypoints(results)\n",
    "                npy_path = os.path.join(DATA_PATH, action, str(sequence), str(frame_num))\n",
    "                np.save(npy_path, keypoints)\n",
    "                \n",
    "                # Brake gracefully\n",
    "                if cv.waitKey(10) & 0xFF == ord(\"q\"):\n",
    "                    break\n",
    "    cap.release()\n",
    "    cv.destroyAllWindows()"
   ]
  },
  {
   "cell_type": "code",
   "execution_count": 35,
   "id": "6e1ef2bc-3f5e-4ab9-823d-d7c1fc530fd2",
   "metadata": {},
   "outputs": [],
   "source": [
    "# cap.release()\n",
    "# cv.destroyAllWindows() "
   ]
  },
  {
   "cell_type": "code",
   "execution_count": 41,
   "id": "a37d677f-5a76-48c6-abab-98916d6b9c02",
   "metadata": {},
   "outputs": [
    {
     "name": "stdout",
     "output_type": "stream",
     "text": [
      "Action: hello\n"
     ]
    },
    {
     "ename": "NameError",
     "evalue": "name 'start_folder' is not defined",
     "output_type": "error",
     "traceback": [
      "\u001b[1;31m---------------------------------------------------------------------------\u001b[0m",
      "\u001b[1;31mNameError\u001b[0m                                 Traceback (most recent call last)",
      "Cell \u001b[1;32mIn[41], line 3\u001b[0m\n\u001b[0;32m      1\u001b[0m \u001b[38;5;28;01mfor\u001b[39;00m action \u001b[38;5;129;01min\u001b[39;00m actions:\n\u001b[0;32m      2\u001b[0m     \u001b[38;5;28mprint\u001b[39m(\u001b[38;5;124m\"\u001b[39m\u001b[38;5;124mAction: \u001b[39m\u001b[38;5;132;01m{}\u001b[39;00m\u001b[38;5;124m\"\u001b[39m\u001b[38;5;241m.\u001b[39mformat(action))\n\u001b[1;32m----> 3\u001b[0m     \u001b[38;5;28;01mfor\u001b[39;00m sequence \u001b[38;5;129;01min\u001b[39;00m \u001b[38;5;28mrange\u001b[39m(start_folder, start_folder\u001b[38;5;241m+\u001b[39mno_sequences):\n\u001b[0;32m      4\u001b[0m         \u001b[38;5;28mprint\u001b[39m(\u001b[38;5;124m\"\u001b[39m\u001b[38;5;124mSequence No.: \u001b[39m\u001b[38;5;132;01m{}\u001b[39;00m\u001b[38;5;124m\"\u001b[39m\u001b[38;5;241m.\u001b[39mformat(sequence))\n\u001b[0;32m      5\u001b[0m         \u001b[38;5;28;01mfor\u001b[39;00m frame_num \u001b[38;5;129;01min\u001b[39;00m \u001b[38;5;28mrange\u001b[39m(sequence_length):\n",
      "\u001b[1;31mNameError\u001b[0m: name 'start_folder' is not defined"
     ]
    }
   ],
   "source": [
    "# for action in actions:\n",
    "#     print(\"Action: {}\".format(action))\n",
    "#     for sequence in range(start_folder, start_folder+no_sequences):\n",
    "#         print(\"Sequence No.: {}\".format(sequence))\n",
    "#         for frame_num in range(sequence_length):\n",
    "#             print(\"Frame No.: {}\".format(frame_num))"
   ]
  },
  {
   "cell_type": "markdown",
   "id": "fdb4cdef-4592-462c-9bb7-46991119438a",
   "metadata": {},
   "source": [
    "# Preprocess Data and Create Labels and Features"
   ]
  },
  {
   "cell_type": "code",
   "execution_count": 121,
   "id": "0d7a1a55-f1ca-406d-878a-00cb0c2a5275",
   "metadata": {},
   "outputs": [],
   "source": [
    "from sklearn.model_selection import train_test_split\n",
    "from tensorflow.keras.utils import to_categorical"
   ]
  },
  {
   "cell_type": "code",
   "execution_count": 123,
   "id": "adcba3e1-30ce-4dc0-b318-945f923ee769",
   "metadata": {},
   "outputs": [],
   "source": [
    "label_map = {label:num for num, label in enumerate(actions)}"
   ]
  },
  {
   "cell_type": "code",
   "execution_count": 125,
   "id": "f965ec58-6bc2-44a6-aaad-6d8fc4a7b49a",
   "metadata": {},
   "outputs": [
    {
     "data": {
      "text/plain": [
       "{'hello': 0, 'thanks': 1, 'iloveyou': 2}"
      ]
     },
     "execution_count": 125,
     "metadata": {},
     "output_type": "execute_result"
    }
   ],
   "source": [
    "label_map"
   ]
  },
  {
   "cell_type": "code",
   "execution_count": 127,
   "id": "6bb9ed86-395c-4b72-bf8d-a1c6f8a2b8df",
   "metadata": {},
   "outputs": [],
   "source": [
    "sequences, labels = [], []\n",
    "for action in actions:\n",
    "    for sequence in range(no_sequences):\n",
    "        window = []\n",
    "        for frame_num in range(sequence_length):\n",
    "            res = np.load(os.path.join(DATA_PATH, action, str(sequence), \"{}.npy\".format(frame_num)))\n",
    "            window.append(res)\n",
    "        sequences.append(window)\n",
    "        labels.append(label_map[action])"
   ]
  },
  {
   "cell_type": "code",
   "execution_count": 46,
   "id": "8ac4effa-169d-4555-8d6b-a8b335b72d55",
   "metadata": {},
   "outputs": [
    {
     "data": {
      "text/plain": [
       "(90, 30, 1662)"
      ]
     },
     "execution_count": 46,
     "metadata": {},
     "output_type": "execute_result"
    }
   ],
   "source": [
    "np.array(sequences).shape"
   ]
  },
  {
   "cell_type": "code",
   "execution_count": 48,
   "id": "56557b03-a647-4ca9-83a2-c9cb0f2f93bd",
   "metadata": {},
   "outputs": [
    {
     "data": {
      "text/plain": [
       "(90,)"
      ]
     },
     "execution_count": 48,
     "metadata": {},
     "output_type": "execute_result"
    }
   ],
   "source": [
    "np.array(labels).shape"
   ]
  },
  {
   "cell_type": "code",
   "execution_count": 129,
   "id": "df69b874-82e2-44f8-bbab-56e100a2ff58",
   "metadata": {},
   "outputs": [],
   "source": [
    "X = np.array(sequences)"
   ]
  },
  {
   "cell_type": "code",
   "execution_count": 131,
   "id": "295b65a9-d55d-420f-a5f9-b7bf20d80f7f",
   "metadata": {},
   "outputs": [
    {
     "data": {
      "text/plain": [
       "(90, 30, 1662)"
      ]
     },
     "execution_count": 131,
     "metadata": {},
     "output_type": "execute_result"
    }
   ],
   "source": [
    "X.shape"
   ]
  },
  {
   "cell_type": "code",
   "execution_count": 133,
   "id": "84b457e0-a871-4d40-955b-e91d4de92411",
   "metadata": {},
   "outputs": [],
   "source": [
    "y = to_categorical(labels).astype(int)"
   ]
  },
  {
   "cell_type": "code",
   "execution_count": 135,
   "id": "787af5b0-e654-4d5e-b4ec-d348c63dfedd",
   "metadata": {},
   "outputs": [
    {
     "data": {
      "text/plain": [
       "array([[1, 0, 0],\n",
       "       [1, 0, 0],\n",
       "       [1, 0, 0],\n",
       "       [1, 0, 0],\n",
       "       [1, 0, 0],\n",
       "       [1, 0, 0],\n",
       "       [1, 0, 0],\n",
       "       [1, 0, 0],\n",
       "       [1, 0, 0],\n",
       "       [1, 0, 0],\n",
       "       [1, 0, 0],\n",
       "       [1, 0, 0],\n",
       "       [1, 0, 0],\n",
       "       [1, 0, 0],\n",
       "       [1, 0, 0],\n",
       "       [1, 0, 0],\n",
       "       [1, 0, 0],\n",
       "       [1, 0, 0],\n",
       "       [1, 0, 0],\n",
       "       [1, 0, 0],\n",
       "       [1, 0, 0],\n",
       "       [1, 0, 0],\n",
       "       [1, 0, 0],\n",
       "       [1, 0, 0],\n",
       "       [1, 0, 0],\n",
       "       [1, 0, 0],\n",
       "       [1, 0, 0],\n",
       "       [1, 0, 0],\n",
       "       [1, 0, 0],\n",
       "       [1, 0, 0],\n",
       "       [0, 1, 0],\n",
       "       [0, 1, 0],\n",
       "       [0, 1, 0],\n",
       "       [0, 1, 0],\n",
       "       [0, 1, 0],\n",
       "       [0, 1, 0],\n",
       "       [0, 1, 0],\n",
       "       [0, 1, 0],\n",
       "       [0, 1, 0],\n",
       "       [0, 1, 0],\n",
       "       [0, 1, 0],\n",
       "       [0, 1, 0],\n",
       "       [0, 1, 0],\n",
       "       [0, 1, 0],\n",
       "       [0, 1, 0],\n",
       "       [0, 1, 0],\n",
       "       [0, 1, 0],\n",
       "       [0, 1, 0],\n",
       "       [0, 1, 0],\n",
       "       [0, 1, 0],\n",
       "       [0, 1, 0],\n",
       "       [0, 1, 0],\n",
       "       [0, 1, 0],\n",
       "       [0, 1, 0],\n",
       "       [0, 1, 0],\n",
       "       [0, 1, 0],\n",
       "       [0, 1, 0],\n",
       "       [0, 1, 0],\n",
       "       [0, 1, 0],\n",
       "       [0, 1, 0],\n",
       "       [0, 0, 1],\n",
       "       [0, 0, 1],\n",
       "       [0, 0, 1],\n",
       "       [0, 0, 1],\n",
       "       [0, 0, 1],\n",
       "       [0, 0, 1],\n",
       "       [0, 0, 1],\n",
       "       [0, 0, 1],\n",
       "       [0, 0, 1],\n",
       "       [0, 0, 1],\n",
       "       [0, 0, 1],\n",
       "       [0, 0, 1],\n",
       "       [0, 0, 1],\n",
       "       [0, 0, 1],\n",
       "       [0, 0, 1],\n",
       "       [0, 0, 1],\n",
       "       [0, 0, 1],\n",
       "       [0, 0, 1],\n",
       "       [0, 0, 1],\n",
       "       [0, 0, 1],\n",
       "       [0, 0, 1],\n",
       "       [0, 0, 1],\n",
       "       [0, 0, 1],\n",
       "       [0, 0, 1],\n",
       "       [0, 0, 1],\n",
       "       [0, 0, 1],\n",
       "       [0, 0, 1],\n",
       "       [0, 0, 1],\n",
       "       [0, 0, 1],\n",
       "       [0, 0, 1]])"
      ]
     },
     "execution_count": 135,
     "metadata": {},
     "output_type": "execute_result"
    }
   ],
   "source": [
    "y"
   ]
  },
  {
   "cell_type": "code",
   "execution_count": 137,
   "id": "cc8abd11-b9ec-41a7-9d97-090b6568b500",
   "metadata": {},
   "outputs": [],
   "source": [
    "X_train, X_test, y_train, y_test = train_test_split(X, y, test_size=0.05)"
   ]
  },
  {
   "cell_type": "code",
   "execution_count": 60,
   "id": "76f7a5a4-3062-46dc-834c-813438d71887",
   "metadata": {},
   "outputs": [
    {
     "data": {
      "text/plain": [
       "(5, 3)"
      ]
     },
     "execution_count": 60,
     "metadata": {},
     "output_type": "execute_result"
    }
   ],
   "source": [
    "y_test.shape"
   ]
  },
  {
   "cell_type": "markdown",
   "id": "b4846304-cd21-4533-befa-3f618b02ddf8",
   "metadata": {},
   "source": [
    "# Build and Train LSTM Neural Network"
   ]
  },
  {
   "cell_type": "code",
   "execution_count": 66,
   "id": "78a6ba71-ffbe-4c82-9d0d-7a9d59142980",
   "metadata": {},
   "outputs": [],
   "source": [
    "from tensorflow.keras.models import Sequential\n",
    "from tensorflow.keras.layers import LSTM, Dense, Dropout\n",
    "from tensorflow.keras.callbacks import TensorBoard\n",
    "from keras.callbacks import EarlyStopping "
   ]
  },
  {
   "cell_type": "code",
   "execution_count": 68,
   "id": "85585429-1104-4a43-b23f-08091ee6b863",
   "metadata": {},
   "outputs": [],
   "source": [
    "log_dir = os.path.join(\"Logs\")\n",
    "tb_callbacks = TensorBoard(log_dir=log_dir)"
   ]
  },
  {
   "cell_type": "code",
   "execution_count": 70,
   "id": "12854efd-d094-4ae5-a50f-1e3740ce8595",
   "metadata": {},
   "outputs": [],
   "source": [
    "model = Sequential()\n",
    "model.add(LSTM(64, return_sequences=True, activation=\"relu\", input_shape=(30, 1662)))\n",
    "\n",
    "model.add(LSTM(128, return_sequences=True, activation=\"relu\"))\n",
    "\n",
    "model.add(LSTM(64, return_sequences=False, activation=\"relu\"))\n",
    "\n",
    "model.add(Dense(64, activation=\"relu\"))\n",
    "\n",
    "\n",
    "model.add(Dense(32, activation=\"relu\"))\n",
    "\n",
    "model.add(Dense(actions.shape[0], activation=\"softmax\"))"
   ]
  },
  {
   "cell_type": "code",
   "execution_count": 72,
   "id": "58d12f36-c576-4448-b9dd-4033f8dbcaa1",
   "metadata": {},
   "outputs": [
    {
     "name": "stdout",
     "output_type": "stream",
     "text": [
      "Model: \"sequential\"\n",
      "_________________________________________________________________\n",
      " Layer (type)                Output Shape              Param #   \n",
      "=================================================================\n",
      " lstm (LSTM)                 (None, 30, 64)            442112    \n",
      "                                                                 \n",
      " lstm_1 (LSTM)               (None, 30, 128)           98816     \n",
      "                                                                 \n",
      " lstm_2 (LSTM)               (None, 64)                49408     \n",
      "                                                                 \n",
      " dense (Dense)               (None, 64)                4160      \n",
      "                                                                 \n",
      " dense_1 (Dense)             (None, 32)                2080      \n",
      "                                                                 \n",
      " dense_2 (Dense)             (None, 3)                 99        \n",
      "                                                                 \n",
      "=================================================================\n",
      "Total params: 596675 (2.28 MB)\n",
      "Trainable params: 596675 (2.28 MB)\n",
      "Non-trainable params: 0 (0.00 Byte)\n",
      "_________________________________________________________________\n"
     ]
    }
   ],
   "source": [
    "model.summary()"
   ]
  },
  {
   "cell_type": "code",
   "execution_count": 74,
   "id": "c362ff61-961a-4d53-a771-b205c69e0e3e",
   "metadata": {},
   "outputs": [],
   "source": [
    "model.compile(optimizer=\"Adam\", loss=\"categorical_crossentropy\", metrics=[\"categorical_accuracy\"])"
   ]
  },
  {
   "cell_type": "code",
   "execution_count": 69,
   "id": "3d4fa0b3-6284-4fd3-9898-938917e9ba1b",
   "metadata": {},
   "outputs": [
    {
     "name": "stdout",
     "output_type": "stream",
     "text": [
      "Epoch 1/175\n",
      "3/3 [==============================] - 4s 92ms/step - loss: 1.1381 - categorical_accuracy: 0.3294\n",
      "Epoch 2/175\n",
      "3/3 [==============================] - 0s 85ms/step - loss: 1.2861 - categorical_accuracy: 0.3059\n",
      "Epoch 3/175\n",
      "3/3 [==============================] - 0s 85ms/step - loss: 1.1121 - categorical_accuracy: 0.4471\n",
      "Epoch 4/175\n",
      "3/3 [==============================] - 0s 83ms/step - loss: 1.1579 - categorical_accuracy: 0.2588\n",
      "Epoch 5/175\n",
      "3/3 [==============================] - 0s 85ms/step - loss: 1.1473 - categorical_accuracy: 0.3882\n",
      "Epoch 6/175\n",
      "3/3 [==============================] - 0s 81ms/step - loss: 0.9852 - categorical_accuracy: 0.4588\n",
      "Epoch 7/175\n",
      "3/3 [==============================] - 0s 88ms/step - loss: 1.0268 - categorical_accuracy: 0.5059\n",
      "Epoch 8/175\n",
      "3/3 [==============================] - 0s 91ms/step - loss: 1.8290 - categorical_accuracy: 0.5529\n",
      "Epoch 9/175\n",
      "3/3 [==============================] - 0s 108ms/step - loss: 1.0795 - categorical_accuracy: 0.4353\n",
      "Epoch 10/175\n",
      "3/3 [==============================] - 0s 86ms/step - loss: 1.1393 - categorical_accuracy: 0.3647\n",
      "Epoch 11/175\n",
      "3/3 [==============================] - 0s 86ms/step - loss: 1.2845 - categorical_accuracy: 0.4353\n",
      "Epoch 12/175\n",
      "3/3 [==============================] - 0s 90ms/step - loss: 1.0874 - categorical_accuracy: 0.3412\n",
      "Epoch 13/175\n",
      "3/3 [==============================] - 0s 91ms/step - loss: 1.0958 - categorical_accuracy: 0.3412\n",
      "Epoch 14/175\n",
      "3/3 [==============================] - 0s 86ms/step - loss: 1.0771 - categorical_accuracy: 0.3412\n",
      "Epoch 15/175\n",
      "3/3 [==============================] - 0s 87ms/step - loss: 0.9916 - categorical_accuracy: 0.5647\n",
      "Epoch 16/175\n",
      "3/3 [==============================] - 0s 100ms/step - loss: 1.1533 - categorical_accuracy: 0.3412\n",
      "Epoch 17/175\n",
      "3/3 [==============================] - 0s 83ms/step - loss: 0.9632 - categorical_accuracy: 0.6118\n",
      "Epoch 18/175\n",
      "3/3 [==============================] - 0s 85ms/step - loss: 0.9130 - categorical_accuracy: 0.4588\n",
      "Epoch 19/175\n",
      "3/3 [==============================] - 0s 95ms/step - loss: 0.7192 - categorical_accuracy: 0.6706\n",
      "Epoch 20/175\n",
      "3/3 [==============================] - 0s 84ms/step - loss: 0.5603 - categorical_accuracy: 0.6588\n",
      "Epoch 21/175\n",
      "3/3 [==============================] - 0s 102ms/step - loss: 0.5754 - categorical_accuracy: 0.6941\n",
      "Epoch 22/175\n",
      "3/3 [==============================] - 0s 82ms/step - loss: 0.5484 - categorical_accuracy: 0.7412\n",
      "Epoch 23/175\n",
      "3/3 [==============================] - 0s 86ms/step - loss: 0.5337 - categorical_accuracy: 0.8471\n",
      "Epoch 24/175\n",
      "3/3 [==============================] - 0s 86ms/step - loss: 0.4625 - categorical_accuracy: 0.8118\n",
      "Epoch 25/175\n",
      "3/3 [==============================] - 0s 89ms/step - loss: 1.3877 - categorical_accuracy: 0.5882\n",
      "Epoch 26/175\n",
      "3/3 [==============================] - 0s 99ms/step - loss: 0.6750 - categorical_accuracy: 0.5765\n",
      "Epoch 27/175\n",
      "3/3 [==============================] - 0s 85ms/step - loss: 0.5737 - categorical_accuracy: 0.6118\n",
      "Epoch 28/175\n",
      "3/3 [==============================] - 0s 101ms/step - loss: 0.9438 - categorical_accuracy: 0.6706\n",
      "Epoch 29/175\n",
      "3/3 [==============================] - 0s 83ms/step - loss: 0.9086 - categorical_accuracy: 0.5765\n",
      "Epoch 30/175\n",
      "3/3 [==============================] - 0s 98ms/step - loss: 0.8665 - categorical_accuracy: 0.5176\n",
      "Epoch 31/175\n",
      "3/3 [==============================] - 0s 86ms/step - loss: 0.8578 - categorical_accuracy: 0.5412\n",
      "Epoch 32/175\n",
      "3/3 [==============================] - 0s 104ms/step - loss: 0.8404 - categorical_accuracy: 0.5294\n",
      "Epoch 33/175\n",
      "3/3 [==============================] - 0s 91ms/step - loss: 0.8012 - categorical_accuracy: 0.5294\n",
      "Epoch 34/175\n",
      "3/3 [==============================] - 0s 104ms/step - loss: 0.7482 - categorical_accuracy: 0.5765\n",
      "Epoch 35/175\n",
      "3/3 [==============================] - 0s 96ms/step - loss: 0.6938 - categorical_accuracy: 0.5882\n",
      "Epoch 36/175\n",
      "3/3 [==============================] - 0s 99ms/step - loss: 0.6398 - categorical_accuracy: 0.6000\n",
      "Epoch 37/175\n",
      "3/3 [==============================] - 0s 103ms/step - loss: 0.6583 - categorical_accuracy: 0.5647\n",
      "Epoch 38/175\n",
      "3/3 [==============================] - 0s 103ms/step - loss: 0.5543 - categorical_accuracy: 0.6235\n",
      "Epoch 39/175\n",
      "3/3 [==============================] - 0s 99ms/step - loss: 0.5629 - categorical_accuracy: 0.6000\n",
      "Epoch 40/175\n",
      "3/3 [==============================] - 0s 103ms/step - loss: 0.5415 - categorical_accuracy: 0.5882\n",
      "Epoch 41/175\n",
      "3/3 [==============================] - 0s 106ms/step - loss: 0.5461 - categorical_accuracy: 0.6118\n",
      "Epoch 42/175\n",
      "3/3 [==============================] - 0s 99ms/step - loss: 0.5365 - categorical_accuracy: 0.7176\n",
      "Epoch 43/175\n",
      "3/3 [==============================] - 0s 101ms/step - loss: 0.4706 - categorical_accuracy: 0.9176\n",
      "Epoch 44/175\n",
      "3/3 [==============================] - 0s 103ms/step - loss: 0.4567 - categorical_accuracy: 0.8353\n",
      "Epoch 45/175\n",
      "3/3 [==============================] - 0s 103ms/step - loss: 0.4672 - categorical_accuracy: 0.8941\n",
      "Epoch 46/175\n",
      "3/3 [==============================] - 0s 104ms/step - loss: 0.5441 - categorical_accuracy: 0.8235\n",
      "Epoch 47/175\n",
      "3/3 [==============================] - 0s 108ms/step - loss: 0.3417 - categorical_accuracy: 0.9412\n",
      "Epoch 48/175\n",
      "3/3 [==============================] - 0s 111ms/step - loss: 0.2925 - categorical_accuracy: 0.9059\n",
      "Epoch 49/175\n",
      "3/3 [==============================] - 0s 107ms/step - loss: 0.3020 - categorical_accuracy: 0.8941\n",
      "Epoch 50/175\n",
      "3/3 [==============================] - 0s 119ms/step - loss: 0.4712 - categorical_accuracy: 0.8235\n",
      "Epoch 51/175\n",
      "3/3 [==============================] - 0s 99ms/step - loss: 0.3605 - categorical_accuracy: 0.8824\n",
      "Epoch 52/175\n",
      "3/3 [==============================] - 0s 98ms/step - loss: 0.1815 - categorical_accuracy: 0.9529\n",
      "Epoch 53/175\n",
      "3/3 [==============================] - 0s 104ms/step - loss: 0.2015 - categorical_accuracy: 0.9412\n",
      "Epoch 54/175\n",
      "3/3 [==============================] - 0s 103ms/step - loss: 0.1819 - categorical_accuracy: 0.9412\n",
      "Epoch 55/175\n",
      "3/3 [==============================] - 0s 100ms/step - loss: 0.1521 - categorical_accuracy: 0.9529\n",
      "Epoch 56/175\n",
      "3/3 [==============================] - 0s 105ms/step - loss: 0.1536 - categorical_accuracy: 0.9529\n",
      "Epoch 57/175\n",
      "3/3 [==============================] - 0s 96ms/step - loss: 0.1232 - categorical_accuracy: 0.9647\n",
      "Epoch 58/175\n",
      "3/3 [==============================] - 0s 93ms/step - loss: 0.1556 - categorical_accuracy: 0.9412\n",
      "Epoch 59/175\n",
      "3/3 [==============================] - 0s 100ms/step - loss: 0.1787 - categorical_accuracy: 0.9412\n",
      "Epoch 60/175\n",
      "3/3 [==============================] - 0s 97ms/step - loss: 0.1457 - categorical_accuracy: 0.9529\n",
      "Epoch 61/175\n",
      "3/3 [==============================] - 0s 100ms/step - loss: 0.1326 - categorical_accuracy: 0.9412\n",
      "Epoch 62/175\n",
      "3/3 [==============================] - 0s 98ms/step - loss: 0.1503 - categorical_accuracy: 0.9529\n",
      "Epoch 63/175\n",
      "3/3 [==============================] - 0s 95ms/step - loss: 0.1500 - categorical_accuracy: 0.9647\n",
      "Epoch 64/175\n",
      "3/3 [==============================] - 0s 106ms/step - loss: 0.0530 - categorical_accuracy: 1.0000\n",
      "Epoch 65/175\n",
      "3/3 [==============================] - 0s 115ms/step - loss: 0.0488 - categorical_accuracy: 0.9882\n",
      "Epoch 66/175\n",
      "3/3 [==============================] - 0s 100ms/step - loss: 0.0738 - categorical_accuracy: 0.9765\n",
      "Epoch 67/175\n",
      "3/3 [==============================] - 0s 99ms/step - loss: 0.0817 - categorical_accuracy: 0.9765\n",
      "Epoch 68/175\n",
      "3/3 [==============================] - 0s 141ms/step - loss: 0.0288 - categorical_accuracy: 1.0000\n",
      "Epoch 69/175\n",
      "3/3 [==============================] - 0s 135ms/step - loss: 0.0426 - categorical_accuracy: 0.9765\n",
      "Epoch 70/175\n",
      "3/3 [==============================] - 0s 101ms/step - loss: 0.0307 - categorical_accuracy: 0.9882\n",
      "Epoch 71/175\n",
      "3/3 [==============================] - 0s 109ms/step - loss: 0.0583 - categorical_accuracy: 0.9882\n",
      "Epoch 72/175\n",
      "3/3 [==============================] - 0s 99ms/step - loss: 0.4472 - categorical_accuracy: 0.8706\n",
      "Epoch 73/175\n",
      "3/3 [==============================] - 0s 100ms/step - loss: 0.3566 - categorical_accuracy: 0.8824\n",
      "Epoch 74/175\n",
      "3/3 [==============================] - 0s 103ms/step - loss: 0.2606 - categorical_accuracy: 0.9059\n",
      "Epoch 75/175\n",
      "3/3 [==============================] - 0s 101ms/step - loss: 0.1973 - categorical_accuracy: 0.9294\n",
      "Epoch 76/175\n",
      "3/3 [==============================] - 0s 99ms/step - loss: 0.1395 - categorical_accuracy: 0.9765\n",
      "Epoch 77/175\n",
      "3/3 [==============================] - 0s 99ms/step - loss: 0.1191 - categorical_accuracy: 0.9765\n",
      "Epoch 78/175\n",
      "3/3 [==============================] - 0s 96ms/step - loss: 0.1044 - categorical_accuracy: 0.9882\n",
      "Epoch 79/175\n",
      "3/3 [==============================] - 0s 104ms/step - loss: 0.1059 - categorical_accuracy: 0.9882\n",
      "Epoch 80/175\n",
      "3/3 [==============================] - 0s 95ms/step - loss: 0.0837 - categorical_accuracy: 0.9882\n",
      "Epoch 81/175\n",
      "3/3 [==============================] - 0s 95ms/step - loss: 0.0697 - categorical_accuracy: 0.9882\n",
      "Epoch 82/175\n",
      "3/3 [==============================] - 0s 94ms/step - loss: 0.0617 - categorical_accuracy: 0.9882\n",
      "Epoch 83/175\n",
      "3/3 [==============================] - 0s 99ms/step - loss: 0.0579 - categorical_accuracy: 0.9882\n",
      "Epoch 84/175\n",
      "3/3 [==============================] - 0s 100ms/step - loss: 0.0456 - categorical_accuracy: 0.9882\n",
      "Epoch 85/175\n",
      "3/3 [==============================] - 0s 98ms/step - loss: 0.0463 - categorical_accuracy: 0.9882\n",
      "Epoch 86/175\n",
      "3/3 [==============================] - 0s 96ms/step - loss: 0.0389 - categorical_accuracy: 0.9882\n",
      "Epoch 87/175\n",
      "3/3 [==============================] - 0s 102ms/step - loss: 0.0346 - categorical_accuracy: 0.9882\n",
      "Epoch 88/175\n",
      "3/3 [==============================] - 0s 97ms/step - loss: 0.0326 - categorical_accuracy: 0.9882\n",
      "Epoch 89/175\n",
      "3/3 [==============================] - 0s 95ms/step - loss: 0.0294 - categorical_accuracy: 0.9882\n",
      "Epoch 90/175\n",
      "3/3 [==============================] - 0s 96ms/step - loss: 0.0288 - categorical_accuracy: 0.9882\n",
      "Epoch 91/175\n",
      "3/3 [==============================] - 0s 103ms/step - loss: 0.0260 - categorical_accuracy: 0.9882\n",
      "Epoch 92/175\n",
      "3/3 [==============================] - 0s 99ms/step - loss: 0.0249 - categorical_accuracy: 0.9882\n",
      "Epoch 93/175\n",
      "3/3 [==============================] - 0s 100ms/step - loss: 0.0235 - categorical_accuracy: 0.9882\n",
      "Epoch 94/175\n",
      "3/3 [==============================] - 0s 94ms/step - loss: 0.0192 - categorical_accuracy: 0.9882\n",
      "Epoch 95/175\n",
      "3/3 [==============================] - 0s 115ms/step - loss: 0.0173 - categorical_accuracy: 0.9882\n",
      "Epoch 96/175\n",
      "3/3 [==============================] - 0s 98ms/step - loss: 0.0158 - categorical_accuracy: 0.9882\n",
      "Epoch 97/175\n",
      "3/3 [==============================] - 0s 93ms/step - loss: 0.0135 - categorical_accuracy: 0.9882\n",
      "Epoch 98/175\n",
      "3/3 [==============================] - 0s 101ms/step - loss: 0.0115 - categorical_accuracy: 1.0000\n",
      "Epoch 99/175\n",
      "3/3 [==============================] - 0s 100ms/step - loss: 0.0069 - categorical_accuracy: 1.0000\n",
      "Epoch 100/175\n",
      "3/3 [==============================] - 0s 98ms/step - loss: 0.0074 - categorical_accuracy: 1.0000\n",
      "Epoch 101/175\n",
      "3/3 [==============================] - 0s 98ms/step - loss: 0.0071 - categorical_accuracy: 1.0000\n",
      "Epoch 102/175\n",
      "3/3 [==============================] - 0s 97ms/step - loss: 0.0040 - categorical_accuracy: 1.0000\n",
      "Epoch 103/175\n",
      "3/3 [==============================] - 0s 102ms/step - loss: 0.0697 - categorical_accuracy: 0.9765\n",
      "Epoch 104/175\n",
      "3/3 [==============================] - 0s 101ms/step - loss: 1.4011 - categorical_accuracy: 0.7176\n",
      "Epoch 105/175\n",
      "3/3 [==============================] - 0s 94ms/step - loss: 2.3015 - categorical_accuracy: 0.5882\n",
      "Epoch 106/175\n",
      "3/3 [==============================] - 0s 97ms/step - loss: 0.7796 - categorical_accuracy: 0.8353\n",
      "Epoch 107/175\n",
      "3/3 [==============================] - 0s 98ms/step - loss: 0.5232 - categorical_accuracy: 0.9059\n",
      "Epoch 108/175\n",
      "3/3 [==============================] - 0s 99ms/step - loss: 0.6890 - categorical_accuracy: 0.7647\n",
      "Epoch 109/175\n",
      "3/3 [==============================] - 0s 99ms/step - loss: 0.6013 - categorical_accuracy: 0.9176\n",
      "Epoch 110/175\n",
      "3/3 [==============================] - 0s 94ms/step - loss: 0.5895 - categorical_accuracy: 0.8235\n",
      "Epoch 111/175\n",
      "3/3 [==============================] - 0s 102ms/step - loss: 0.5981 - categorical_accuracy: 0.8000\n",
      "Epoch 112/175\n",
      "3/3 [==============================] - 0s 102ms/step - loss: 0.5268 - categorical_accuracy: 0.9765\n",
      "Epoch 113/175\n",
      "3/3 [==============================] - 0s 96ms/step - loss: 0.4995 - categorical_accuracy: 0.9647\n",
      "Epoch 114/175\n",
      "3/3 [==============================] - 0s 96ms/step - loss: 0.4352 - categorical_accuracy: 0.9647\n",
      "Epoch 115/175\n",
      "3/3 [==============================] - 0s 99ms/step - loss: 0.3899 - categorical_accuracy: 0.9647\n",
      "Epoch 116/175\n",
      "3/3 [==============================] - 0s 99ms/step - loss: 0.3508 - categorical_accuracy: 0.9765\n",
      "Epoch 117/175\n",
      "3/3 [==============================] - 0s 98ms/step - loss: 0.3102 - categorical_accuracy: 0.9882\n",
      "Epoch 118/175\n",
      "3/3 [==============================] - 0s 97ms/step - loss: 0.2737 - categorical_accuracy: 0.9882\n",
      "Epoch 119/175\n",
      "3/3 [==============================] - 0s 99ms/step - loss: 0.2536 - categorical_accuracy: 0.9882\n",
      "Epoch 120/175\n",
      "3/3 [==============================] - 0s 100ms/step - loss: 0.2302 - categorical_accuracy: 0.9882\n",
      "Epoch 121/175\n",
      "3/3 [==============================] - 0s 95ms/step - loss: 0.2012 - categorical_accuracy: 0.9765\n",
      "Epoch 122/175\n",
      "3/3 [==============================] - 0s 97ms/step - loss: 0.1713 - categorical_accuracy: 0.9882\n",
      "Epoch 123/175\n",
      "3/3 [==============================] - 0s 98ms/step - loss: 0.1486 - categorical_accuracy: 0.9882\n",
      "Epoch 124/175\n",
      "3/3 [==============================] - 0s 100ms/step - loss: 0.1248 - categorical_accuracy: 0.9882\n",
      "Epoch 125/175\n",
      "3/3 [==============================] - 0s 100ms/step - loss: 0.1106 - categorical_accuracy: 0.9882\n",
      "Epoch 126/175\n",
      "3/3 [==============================] - 0s 95ms/step - loss: 0.3999 - categorical_accuracy: 0.9059\n",
      "Epoch 127/175\n",
      "3/3 [==============================] - 0s 98ms/step - loss: 0.6897 - categorical_accuracy: 0.8471\n",
      "Epoch 128/175\n",
      "3/3 [==============================] - 0s 101ms/step - loss: 0.3910 - categorical_accuracy: 0.8706\n",
      "Epoch 129/175\n",
      "3/3 [==============================] - 0s 96ms/step - loss: 0.3115 - categorical_accuracy: 0.8941\n",
      "Epoch 130/175\n",
      "3/3 [==============================] - 0s 98ms/step - loss: 0.2282 - categorical_accuracy: 0.9294\n",
      "Epoch 131/175\n",
      "3/3 [==============================] - 0s 106ms/step - loss: 0.1641 - categorical_accuracy: 0.9647\n",
      "Epoch 132/175\n",
      "3/3 [==============================] - 0s 102ms/step - loss: 0.1335 - categorical_accuracy: 0.9882\n",
      "Epoch 133/175\n",
      "3/3 [==============================] - 0s 101ms/step - loss: 0.1698 - categorical_accuracy: 0.9765\n",
      "Epoch 134/175\n",
      "3/3 [==============================] - 0s 104ms/step - loss: 0.1303 - categorical_accuracy: 0.9412\n",
      "Epoch 135/175\n",
      "3/3 [==============================] - 0s 114ms/step - loss: 0.0825 - categorical_accuracy: 0.9882\n",
      "Epoch 136/175\n",
      "3/3 [==============================] - 0s 105ms/step - loss: 0.0675 - categorical_accuracy: 0.9882\n",
      "Epoch 137/175\n",
      "3/3 [==============================] - 0s 99ms/step - loss: 0.0892 - categorical_accuracy: 0.9765\n",
      "Epoch 138/175\n",
      "3/3 [==============================] - 0s 97ms/step - loss: 0.0508 - categorical_accuracy: 1.0000\n",
      "Epoch 139/175\n",
      "3/3 [==============================] - 0s 101ms/step - loss: 0.0900 - categorical_accuracy: 0.9529\n",
      "Epoch 140/175\n",
      "3/3 [==============================] - 0s 102ms/step - loss: 0.1083 - categorical_accuracy: 0.9529\n",
      "Epoch 141/175\n",
      "3/3 [==============================] - 0s 99ms/step - loss: 0.0525 - categorical_accuracy: 0.9765\n",
      "Epoch 142/175\n",
      "3/3 [==============================] - 0s 97ms/step - loss: 0.0315 - categorical_accuracy: 0.9882\n",
      "Epoch 143/175\n",
      "3/3 [==============================] - 0s 101ms/step - loss: 0.0500 - categorical_accuracy: 0.9882\n",
      "Epoch 144/175\n",
      "3/3 [==============================] - 0s 97ms/step - loss: 0.0514 - categorical_accuracy: 0.9765\n",
      "Epoch 145/175\n",
      "3/3 [==============================] - 0s 94ms/step - loss: 0.0290 - categorical_accuracy: 0.9882\n",
      "Epoch 146/175\n",
      "3/3 [==============================] - 0s 95ms/step - loss: 0.0089 - categorical_accuracy: 1.0000\n",
      "Epoch 147/175\n",
      "3/3 [==============================] - 0s 99ms/step - loss: 0.0212 - categorical_accuracy: 1.0000\n",
      "Epoch 148/175\n",
      "3/3 [==============================] - 0s 99ms/step - loss: 0.0042 - categorical_accuracy: 1.0000\n",
      "Epoch 149/175\n",
      "3/3 [==============================] - 0s 101ms/step - loss: 0.0091 - categorical_accuracy: 1.0000\n",
      "Epoch 150/175\n",
      "3/3 [==============================] - 0s 94ms/step - loss: 0.0031 - categorical_accuracy: 1.0000\n",
      "Epoch 151/175\n",
      "3/3 [==============================] - 0s 104ms/step - loss: 0.0040 - categorical_accuracy: 1.0000\n",
      "Epoch 152/175\n",
      "3/3 [==============================] - 0s 98ms/step - loss: 0.0059 - categorical_accuracy: 1.0000\n",
      "Epoch 153/175\n",
      "3/3 [==============================] - 0s 98ms/step - loss: 0.0017 - categorical_accuracy: 1.0000\n",
      "Epoch 154/175\n",
      "3/3 [==============================] - 0s 97ms/step - loss: 0.0024 - categorical_accuracy: 1.0000\n",
      "Epoch 155/175\n",
      "3/3 [==============================] - 0s 100ms/step - loss: 0.0024 - categorical_accuracy: 1.0000\n",
      "Epoch 156/175\n",
      "3/3 [==============================] - 0s 105ms/step - loss: 0.0014 - categorical_accuracy: 1.0000\n",
      "Epoch 157/175\n",
      "3/3 [==============================] - 0s 104ms/step - loss: 9.5777e-04 - categorical_accuracy: 1.0000\n",
      "Epoch 158/175\n",
      "3/3 [==============================] - 0s 97ms/step - loss: 0.0012 - categorical_accuracy: 1.0000\n",
      "Epoch 159/175\n",
      "3/3 [==============================] - 0s 101ms/step - loss: 0.0011 - categorical_accuracy: 1.0000\n",
      "Epoch 160/175\n",
      "3/3 [==============================] - 0s 98ms/step - loss: 7.9067e-04 - categorical_accuracy: 1.0000\n",
      "Epoch 161/175\n",
      "3/3 [==============================] - 0s 95ms/step - loss: 5.9590e-04 - categorical_accuracy: 1.0000\n",
      "Epoch 162/175\n",
      "3/3 [==============================] - 0s 98ms/step - loss: 5.9274e-04 - categorical_accuracy: 1.0000\n",
      "Epoch 163/175\n",
      "3/3 [==============================] - 0s 115ms/step - loss: 5.7222e-04 - categorical_accuracy: 1.0000\n",
      "Epoch 164/175\n",
      "3/3 [==============================] - 0s 99ms/step - loss: 5.3009e-04 - categorical_accuracy: 1.0000\n",
      "Epoch 165/175\n",
      "3/3 [==============================] - 0s 101ms/step - loss: 4.6520e-04 - categorical_accuracy: 1.0000\n",
      "Epoch 166/175\n",
      "3/3 [==============================] - 0s 94ms/step - loss: 4.2670e-04 - categorical_accuracy: 1.0000\n",
      "Epoch 167/175\n",
      "3/3 [==============================] - 0s 103ms/step - loss: 3.8332e-04 - categorical_accuracy: 1.0000\n",
      "Epoch 168/175\n",
      "3/3 [==============================] - 0s 94ms/step - loss: 3.6374e-04 - categorical_accuracy: 1.0000\n",
      "Epoch 169/175\n",
      "3/3 [==============================] - 0s 95ms/step - loss: 3.4739e-04 - categorical_accuracy: 1.0000\n",
      "Epoch 170/175\n",
      "3/3 [==============================] - 0s 95ms/step - loss: 3.2839e-04 - categorical_accuracy: 1.0000\n",
      "Epoch 171/175\n",
      "3/3 [==============================] - 0s 99ms/step - loss: 3.0782e-04 - categorical_accuracy: 1.0000\n",
      "Epoch 172/175\n",
      "3/3 [==============================] - 0s 99ms/step - loss: 2.7916e-04 - categorical_accuracy: 1.0000\n",
      "Epoch 173/175\n",
      "3/3 [==============================] - 0s 100ms/step - loss: 2.6063e-04 - categorical_accuracy: 1.0000\n",
      "Epoch 174/175\n",
      "3/3 [==============================] - 0s 100ms/step - loss: 2.5012e-04 - categorical_accuracy: 1.0000\n",
      "Epoch 175/175\n",
      "3/3 [==============================] - 0s 108ms/step - loss: 2.3398e-04 - categorical_accuracy: 1.0000\n"
     ]
    },
    {
     "data": {
      "text/plain": [
       "<keras.src.callbacks.History at 0x260b663b390>"
      ]
     },
     "execution_count": 69,
     "metadata": {},
     "output_type": "execute_result"
    }
   ],
   "source": [
    "model.fit(X_train, y_train, epochs=175, callbacks=[tb_callbacks])"
   ]
  },
  {
   "cell_type": "markdown",
   "id": "7e2217dd-b762-48cd-9a5f-d1323d1f25ce",
   "metadata": {},
   "source": [
    "# Make Predictions"
   ]
  },
  {
   "cell_type": "code",
   "execution_count": 139,
   "id": "6660fdeb-7bb4-444e-bc8e-921511d9b52c",
   "metadata": {},
   "outputs": [
    {
     "name": "stdout",
     "output_type": "stream",
     "text": [
      "1/1 [==============================] - 0s 233ms/step\n"
     ]
    }
   ],
   "source": [
    "res = model.predict(X_test)"
   ]
  },
  {
   "cell_type": "code",
   "execution_count": 141,
   "id": "7dc842af-c5a2-4539-bcef-0134a854f66d",
   "metadata": {},
   "outputs": [
    {
     "data": {
      "text/plain": [
       "'hello'"
      ]
     },
     "execution_count": 141,
     "metadata": {},
     "output_type": "execute_result"
    }
   ],
   "source": [
    "actions[np.argmax(res[4])]"
   ]
  },
  {
   "cell_type": "markdown",
   "id": "b9a64bc1-bd3b-4f6d-9197-59319d8a80f8",
   "metadata": {},
   "source": [
    "# Save Weights"
   ]
  },
  {
   "cell_type": "code",
   "execution_count": 75,
   "id": "3fa73952-0621-422b-ba0e-cf87315f650c",
   "metadata": {},
   "outputs": [
    {
     "name": "stderr",
     "output_type": "stream",
     "text": [
      "C:\\Users\\atif\\anaconda3\\Lib\\site-packages\\keras\\src\\engine\\training.py:3000: UserWarning: You are saving your model as an HDF5 file via `model.save()`. This file format is considered legacy. We recommend using instead the native Keras format, e.g. `model.save('my_model.keras')`.\n",
      "  saving_api.save_model(\n"
     ]
    }
   ],
   "source": [
    "model.save(\"action.h5\")"
   ]
  },
  {
   "cell_type": "code",
   "execution_count": 143,
   "id": "851ca7ac-c139-4b4f-a300-532e1786a5a4",
   "metadata": {},
   "outputs": [],
   "source": [
    "model.load_weights(\"action.h5\")"
   ]
  },
  {
   "cell_type": "markdown",
   "id": "a4b5aee4-b611-47a3-a700-5378a6ca6363",
   "metadata": {},
   "source": [
    "# Evaluation Using Confusion Matrix and Accuracy"
   ]
  },
  {
   "cell_type": "code",
   "execution_count": 145,
   "id": "a8c562ab-2103-4e5e-ac86-0db1c10a7df9",
   "metadata": {},
   "outputs": [],
   "source": [
    "from sklearn.metrics import multilabel_confusion_matrix, accuracy_score"
   ]
  },
  {
   "cell_type": "code",
   "execution_count": 147,
   "id": "c7536cba-cced-43ad-b409-1ae710374d04",
   "metadata": {},
   "outputs": [
    {
     "name": "stdout",
     "output_type": "stream",
     "text": [
      "1/1 [==============================] - 0s 44ms/step\n"
     ]
    }
   ],
   "source": [
    "yhat = model.predict(X_test)"
   ]
  },
  {
   "cell_type": "code",
   "execution_count": 149,
   "id": "8200e8e2-ed65-4a34-89e2-38859fa33cd1",
   "metadata": {},
   "outputs": [],
   "source": [
    "ytrue = np.argmax(y_test, axis=1).tolist()\n",
    "yhat = np.argmax(yhat, axis=1).tolist()"
   ]
  },
  {
   "cell_type": "code",
   "execution_count": 151,
   "id": "78a21124-6f23-4230-8e13-f373addffb0c",
   "metadata": {},
   "outputs": [
    {
     "data": {
      "text/plain": [
       "array([[[4, 0],\n",
       "        [0, 1]],\n",
       "\n",
       "       [[2, 0],\n",
       "        [0, 3]],\n",
       "\n",
       "       [[4, 0],\n",
       "        [0, 1]]], dtype=int64)"
      ]
     },
     "execution_count": 151,
     "metadata": {},
     "output_type": "execute_result"
    }
   ],
   "source": [
    "multilabel_confusion_matrix(ytrue, yhat)"
   ]
  },
  {
   "cell_type": "code",
   "execution_count": 155,
   "id": "2f5997d5-62e9-4f99-943e-d15257556644",
   "metadata": {},
   "outputs": [
    {
     "data": {
      "text/plain": [
       "1.0"
      ]
     },
     "execution_count": 155,
     "metadata": {},
     "output_type": "execute_result"
    }
   ],
   "source": [
    "accuracy_score(ytrue, yhat)"
   ]
  },
  {
   "cell_type": "markdown",
   "id": "59e5ddad-512d-46fc-b7a6-efd5777f004a",
   "metadata": {},
   "source": [
    "# Test in Real Time"
   ]
  },
  {
   "cell_type": "code",
   "execution_count": 93,
   "id": "31217cd2-f667-4d2f-bbbe-f051dddfeee5",
   "metadata": {},
   "outputs": [],
   "source": [
    "from scipy import stats"
   ]
  },
  {
   "cell_type": "code",
   "execution_count": 99,
   "id": "e35f7b94-d867-41e3-a1fd-baf029374bdf",
   "metadata": {},
   "outputs": [],
   "source": [
    "colors = [(245,117,16), (117,245,16), (16,117,245)]\n",
    "def prob_viz(res, actions, input_frame, colors):\n",
    "    output_frame = input_frame.copy()\n",
    "    for num, prob in enumerate(res):\n",
    "        cv.rectangle(output_frame, (0,60+num*40), (int(prob*100), 90+num*40), colors[num], -1)\n",
    "        cv.putText(output_frame, actions[num], (0, 85+num*40), cv.FONT_HERSHEY_SIMPLEX, 1, (255,255,255), 2, cv.LINE_AA)\n",
    "        \n",
    "    return output_frame"
   ]
  },
  {
   "cell_type": "code",
   "execution_count": 101,
   "id": "dacb5c60-7deb-4e9f-9949-775d43c5a4f7",
   "metadata": {},
   "outputs": [
    {
     "ename": "TypeError",
     "evalue": "only size-1 arrays can be converted to Python scalars",
     "output_type": "error",
     "traceback": [
      "\u001b[1;31m---------------------------------------------------------------------------\u001b[0m",
      "\u001b[1;31mTypeError\u001b[0m                                 Traceback (most recent call last)",
      "Cell \u001b[1;32mIn[101], line 2\u001b[0m\n\u001b[0;32m      1\u001b[0m plt\u001b[38;5;241m.\u001b[39mfigure(figsize\u001b[38;5;241m=\u001b[39m(\u001b[38;5;241m18\u001b[39m,\u001b[38;5;241m18\u001b[39m))\n\u001b[1;32m----> 2\u001b[0m plt\u001b[38;5;241m.\u001b[39mimshow(prob_viz(res, actions, image, colors))\n",
      "Cell \u001b[1;32mIn[99], line 5\u001b[0m, in \u001b[0;36mprob_viz\u001b[1;34m(res, actions, input_frame, colors)\u001b[0m\n\u001b[0;32m      3\u001b[0m output_frame \u001b[38;5;241m=\u001b[39m input_frame\u001b[38;5;241m.\u001b[39mcopy()\n\u001b[0;32m      4\u001b[0m \u001b[38;5;28;01mfor\u001b[39;00m num, prob \u001b[38;5;129;01min\u001b[39;00m \u001b[38;5;28menumerate\u001b[39m(res):\n\u001b[1;32m----> 5\u001b[0m     cv\u001b[38;5;241m.\u001b[39mrectangle(output_frame, (\u001b[38;5;241m0\u001b[39m,\u001b[38;5;241m60\u001b[39m\u001b[38;5;241m+\u001b[39mnum\u001b[38;5;241m*\u001b[39m\u001b[38;5;241m40\u001b[39m), (\u001b[38;5;28mint\u001b[39m(prob\u001b[38;5;241m*\u001b[39m\u001b[38;5;241m100\u001b[39m), \u001b[38;5;241m90\u001b[39m\u001b[38;5;241m+\u001b[39mnum\u001b[38;5;241m*\u001b[39m\u001b[38;5;241m40\u001b[39m), colors[num], \u001b[38;5;241m-\u001b[39m\u001b[38;5;241m1\u001b[39m)\n\u001b[0;32m      6\u001b[0m     cv\u001b[38;5;241m.\u001b[39mputText(output_frame, actions[num], (\u001b[38;5;241m0\u001b[39m, \u001b[38;5;241m85\u001b[39m\u001b[38;5;241m+\u001b[39mnum\u001b[38;5;241m*\u001b[39m\u001b[38;5;241m40\u001b[39m), cv\u001b[38;5;241m.\u001b[39mFONT_HERSHEY_SIMPLEX, \u001b[38;5;241m1\u001b[39m, (\u001b[38;5;241m255\u001b[39m,\u001b[38;5;241m255\u001b[39m,\u001b[38;5;241m255\u001b[39m), \u001b[38;5;241m2\u001b[39m, cv\u001b[38;5;241m.\u001b[39mLINE_AA)\n\u001b[0;32m      8\u001b[0m \u001b[38;5;28;01mreturn\u001b[39;00m output_frame\n",
      "\u001b[1;31mTypeError\u001b[0m: only size-1 arrays can be converted to Python scalars"
     ]
    },
    {
     "data": {
      "text/plain": [
       "<Figure size 1800x1800 with 0 Axes>"
      ]
     },
     "metadata": {},
     "output_type": "display_data"
    }
   ],
   "source": [
    "plt.figure(figsize=(18,18))\n",
    "plt.imshow(prob_viz(res, actions, image, colors))"
   ]
  },
  {
   "cell_type": "code",
   "execution_count": 161,
   "id": "b89748f0-7edc-4b26-9d69-0e73d593e986",
   "metadata": {},
   "outputs": [
    {
     "name": "stdout",
     "output_type": "stream",
     "text": [
      "1/1 [==============================] - 0s 26ms/step\n",
      "1/1 [==============================] - 0s 26ms/step\n",
      "1/1 [==============================] - 0s 26ms/step\n",
      "1/1 [==============================] - 0s 25ms/step\n",
      "1/1 [==============================] - 0s 24ms/step\n",
      "1/1 [==============================] - 0s 27ms/step\n",
      "1/1 [==============================] - 0s 26ms/step\n",
      "1/1 [==============================] - 0s 27ms/step\n",
      "1/1 [==============================] - 0s 24ms/step\n",
      "1/1 [==============================] - 0s 24ms/step\n",
      "1/1 [==============================] - 0s 22ms/step\n",
      "1/1 [==============================] - 0s 23ms/step\n",
      "1/1 [==============================] - 0s 27ms/step\n",
      "1/1 [==============================] - 0s 24ms/step\n",
      "1/1 [==============================] - 0s 25ms/step\n",
      "1/1 [==============================] - 0s 24ms/step\n",
      "1/1 [==============================] - 0s 25ms/step\n",
      "1/1 [==============================] - 0s 23ms/step\n",
      "1/1 [==============================] - 0s 25ms/step\n",
      "1/1 [==============================] - 0s 26ms/step\n",
      "1/1 [==============================] - 0s 22ms/step\n",
      "1/1 [==============================] - 0s 26ms/step\n",
      "1/1 [==============================] - 0s 25ms/step\n",
      "1/1 [==============================] - 0s 22ms/step\n",
      "1/1 [==============================] - 0s 30ms/step\n",
      "1/1 [==============================] - 0s 27ms/step\n",
      "1/1 [==============================] - 0s 32ms/step\n",
      "1/1 [==============================] - 0s 25ms/step\n",
      "1/1 [==============================] - 0s 25ms/step\n",
      "1/1 [==============================] - 0s 24ms/step\n",
      "1/1 [==============================] - 0s 23ms/step\n",
      "1/1 [==============================] - 0s 24ms/step\n",
      "1/1 [==============================] - 0s 24ms/step\n",
      "1/1 [==============================] - 0s 22ms/step\n",
      "1/1 [==============================] - 0s 29ms/step\n",
      "1/1 [==============================] - 0s 24ms/step\n",
      "1/1 [==============================] - 0s 24ms/step\n",
      "1/1 [==============================] - 0s 23ms/step\n",
      "1/1 [==============================] - 0s 28ms/step\n",
      "1/1 [==============================] - 0s 30ms/step\n",
      "1/1 [==============================] - 0s 24ms/step\n",
      "1/1 [==============================] - 0s 24ms/step\n",
      "1/1 [==============================] - 0s 31ms/step\n",
      "1/1 [==============================] - 0s 24ms/step\n",
      "1/1 [==============================] - 0s 23ms/step\n",
      "1/1 [==============================] - 0s 26ms/step\n",
      "1/1 [==============================] - 0s 23ms/step\n",
      "1/1 [==============================] - 0s 26ms/step\n",
      "1/1 [==============================] - 0s 24ms/step\n",
      "1/1 [==============================] - 0s 26ms/step\n",
      "1/1 [==============================] - 0s 25ms/step\n",
      "1/1 [==============================] - 0s 24ms/step\n",
      "1/1 [==============================] - 0s 26ms/step\n",
      "1/1 [==============================] - 0s 23ms/step\n",
      "1/1 [==============================] - 0s 24ms/step\n",
      "1/1 [==============================] - 0s 23ms/step\n",
      "1/1 [==============================] - 0s 24ms/step\n",
      "1/1 [==============================] - 0s 23ms/step\n",
      "1/1 [==============================] - 0s 22ms/step\n",
      "1/1 [==============================] - 0s 22ms/step\n",
      "1/1 [==============================] - 0s 23ms/step\n",
      "1/1 [==============================] - 0s 24ms/step\n",
      "1/1 [==============================] - 0s 23ms/step\n",
      "1/1 [==============================] - 0s 24ms/step\n",
      "1/1 [==============================] - 0s 25ms/step\n",
      "1/1 [==============================] - 0s 27ms/step\n",
      "1/1 [==============================] - 0s 25ms/step\n",
      "1/1 [==============================] - 0s 24ms/step\n",
      "1/1 [==============================] - 0s 24ms/step\n",
      "1/1 [==============================] - 0s 22ms/step\n",
      "1/1 [==============================] - 0s 23ms/step\n",
      "1/1 [==============================] - 0s 25ms/step\n",
      "1/1 [==============================] - 0s 23ms/step\n",
      "1/1 [==============================] - 0s 28ms/step\n",
      "1/1 [==============================] - 0s 26ms/step\n",
      "1/1 [==============================] - 0s 23ms/step\n",
      "1/1 [==============================] - 0s 22ms/step\n",
      "1/1 [==============================] - 0s 24ms/step\n",
      "1/1 [==============================] - 0s 25ms/step\n",
      "1/1 [==============================] - 0s 24ms/step\n",
      "1/1 [==============================] - 0s 23ms/step\n",
      "1/1 [==============================] - 0s 23ms/step\n",
      "1/1 [==============================] - 0s 24ms/step\n",
      "1/1 [==============================] - 0s 24ms/step\n",
      "1/1 [==============================] - 0s 27ms/step\n",
      "1/1 [==============================] - 0s 25ms/step\n",
      "1/1 [==============================] - 0s 26ms/step\n",
      "1/1 [==============================] - 0s 51ms/step\n",
      "1/1 [==============================] - 0s 38ms/step\n",
      "1/1 [==============================] - 0s 45ms/step\n",
      "1/1 [==============================] - 0s 49ms/step\n",
      "1/1 [==============================] - 0s 34ms/step\n",
      "1/1 [==============================] - 0s 34ms/step\n",
      "1/1 [==============================] - 0s 35ms/step\n",
      "1/1 [==============================] - 0s 34ms/step\n",
      "1/1 [==============================] - 0s 29ms/step\n",
      "1/1 [==============================] - 0s 28ms/step\n",
      "1/1 [==============================] - 0s 27ms/step\n",
      "1/1 [==============================] - 0s 29ms/step\n",
      "1/1 [==============================] - 0s 30ms/step\n",
      "1/1 [==============================] - 0s 34ms/step\n",
      "1/1 [==============================] - 0s 31ms/step\n",
      "1/1 [==============================] - 0s 30ms/step\n",
      "1/1 [==============================] - 0s 30ms/step\n",
      "1/1 [==============================] - 0s 30ms/step\n",
      "1/1 [==============================] - 0s 40ms/step\n",
      "1/1 [==============================] - 0s 30ms/step\n",
      "1/1 [==============================] - 0s 29ms/step\n",
      "1/1 [==============================] - 0s 29ms/step\n",
      "1/1 [==============================] - 0s 27ms/step\n",
      "1/1 [==============================] - 0s 30ms/step\n",
      "1/1 [==============================] - 0s 29ms/step\n",
      "1/1 [==============================] - 0s 31ms/step\n",
      "1/1 [==============================] - 0s 29ms/step\n",
      "1/1 [==============================] - 0s 31ms/step\n",
      "1/1 [==============================] - 0s 27ms/step\n",
      "1/1 [==============================] - 0s 40ms/step\n",
      "1/1 [==============================] - 0s 35ms/step\n",
      "1/1 [==============================] - 0s 46ms/step\n",
      "1/1 [==============================] - 0s 33ms/step\n",
      "1/1 [==============================] - 0s 30ms/step\n",
      "1/1 [==============================] - 0s 28ms/step\n",
      "1/1 [==============================] - 0s 31ms/step\n",
      "1/1 [==============================] - 0s 29ms/step\n",
      "1/1 [==============================] - 0s 29ms/step\n",
      "1/1 [==============================] - 0s 35ms/step\n",
      "1/1 [==============================] - 0s 29ms/step\n",
      "1/1 [==============================] - 0s 29ms/step\n",
      "1/1 [==============================] - 0s 31ms/step\n",
      "1/1 [==============================] - 0s 33ms/step\n",
      "1/1 [==============================] - 0s 30ms/step\n",
      "1/1 [==============================] - 0s 30ms/step\n",
      "1/1 [==============================] - 0s 28ms/step\n",
      "1/1 [==============================] - 0s 29ms/step\n",
      "1/1 [==============================] - 0s 33ms/step\n",
      "1/1 [==============================] - 0s 28ms/step\n",
      "1/1 [==============================] - 0s 31ms/step\n",
      "1/1 [==============================] - 0s 28ms/step\n",
      "1/1 [==============================] - 0s 28ms/step\n",
      "1/1 [==============================] - 0s 28ms/step\n",
      "1/1 [==============================] - 0s 29ms/step\n",
      "1/1 [==============================] - 0s 30ms/step\n",
      "1/1 [==============================] - 0s 27ms/step\n",
      "1/1 [==============================] - 0s 27ms/step\n",
      "1/1 [==============================] - 0s 26ms/step\n",
      "1/1 [==============================] - 0s 28ms/step\n",
      "1/1 [==============================] - 0s 30ms/step\n",
      "1/1 [==============================] - 0s 30ms/step\n",
      "1/1 [==============================] - 0s 29ms/step\n",
      "1/1 [==============================] - 0s 26ms/step\n",
      "1/1 [==============================] - 0s 27ms/step\n",
      "1/1 [==============================] - 0s 31ms/step\n",
      "1/1 [==============================] - 0s 30ms/step\n",
      "1/1 [==============================] - 0s 31ms/step\n",
      "1/1 [==============================] - 0s 29ms/step\n",
      "1/1 [==============================] - 0s 28ms/step\n",
      "1/1 [==============================] - 0s 32ms/step\n",
      "1/1 [==============================] - 0s 40ms/step\n",
      "1/1 [==============================] - 0s 36ms/step\n",
      "1/1 [==============================] - 0s 45ms/step\n",
      "1/1 [==============================] - 0s 41ms/step\n",
      "1/1 [==============================] - 0s 54ms/step\n",
      "1/1 [==============================] - 0s 51ms/step\n",
      "1/1 [==============================] - 0s 42ms/step\n",
      "1/1 [==============================] - 0s 50ms/step\n",
      "1/1 [==============================] - 0s 52ms/step\n",
      "1/1 [==============================] - 0s 48ms/step\n",
      "1/1 [==============================] - 0s 36ms/step\n",
      "1/1 [==============================] - 0s 51ms/step\n",
      "1/1 [==============================] - 0s 56ms/step\n",
      "1/1 [==============================] - 0s 49ms/step\n",
      "1/1 [==============================] - 0s 49ms/step\n",
      "1/1 [==============================] - 0s 38ms/step\n",
      "1/1 [==============================] - 0s 48ms/step\n",
      "1/1 [==============================] - 0s 43ms/step\n",
      "1/1 [==============================] - 0s 36ms/step\n",
      "1/1 [==============================] - 0s 37ms/step\n",
      "1/1 [==============================] - 0s 38ms/step\n",
      "1/1 [==============================] - 0s 40ms/step\n",
      "1/1 [==============================] - 0s 36ms/step\n",
      "1/1 [==============================] - 0s 36ms/step\n",
      "1/1 [==============================] - 0s 37ms/step\n",
      "1/1 [==============================] - 0s 51ms/step\n",
      "1/1 [==============================] - 0s 36ms/step\n",
      "1/1 [==============================] - 0s 40ms/step\n",
      "1/1 [==============================] - 0s 31ms/step\n",
      "1/1 [==============================] - 0s 29ms/step\n",
      "1/1 [==============================] - 0s 32ms/step\n",
      "1/1 [==============================] - 0s 29ms/step\n",
      "1/1 [==============================] - 0s 29ms/step\n",
      "1/1 [==============================] - 0s 29ms/step\n",
      "1/1 [==============================] - 0s 28ms/step\n",
      "1/1 [==============================] - 0s 27ms/step\n",
      "1/1 [==============================] - 0s 33ms/step\n",
      "1/1 [==============================] - 0s 28ms/step\n",
      "1/1 [==============================] - 0s 29ms/step\n",
      "1/1 [==============================] - 0s 29ms/step\n",
      "1/1 [==============================] - 0s 28ms/step\n",
      "1/1 [==============================] - 0s 28ms/step\n",
      "1/1 [==============================] - 0s 30ms/step\n",
      "1/1 [==============================] - 0s 38ms/step\n",
      "1/1 [==============================] - 0s 29ms/step\n",
      "1/1 [==============================] - 0s 28ms/step\n",
      "1/1 [==============================] - 0s 28ms/step\n",
      "1/1 [==============================] - 0s 28ms/step\n",
      "1/1 [==============================] - 0s 30ms/step\n",
      "1/1 [==============================] - 0s 30ms/step\n",
      "1/1 [==============================] - 0s 27ms/step\n",
      "1/1 [==============================] - 0s 30ms/step\n",
      "1/1 [==============================] - 0s 26ms/step\n",
      "1/1 [==============================] - 0s 26ms/step\n",
      "1/1 [==============================] - 0s 30ms/step\n",
      "1/1 [==============================] - 0s 30ms/step\n",
      "1/1 [==============================] - 0s 29ms/step\n",
      "1/1 [==============================] - 0s 29ms/step\n",
      "1/1 [==============================] - 0s 28ms/step\n",
      "1/1 [==============================] - 0s 27ms/step\n",
      "1/1 [==============================] - 0s 31ms/step\n",
      "1/1 [==============================] - 0s 28ms/step\n",
      "1/1 [==============================] - 0s 29ms/step\n",
      "1/1 [==============================] - 0s 27ms/step\n",
      "1/1 [==============================] - 0s 27ms/step\n",
      "1/1 [==============================] - 0s 29ms/step\n",
      "1/1 [==============================] - 0s 28ms/step\n",
      "1/1 [==============================] - 0s 30ms/step\n",
      "1/1 [==============================] - 0s 28ms/step\n",
      "1/1 [==============================] - 0s 27ms/step\n",
      "1/1 [==============================] - 0s 28ms/step\n",
      "1/1 [==============================] - 0s 28ms/step\n",
      "1/1 [==============================] - 0s 31ms/step\n",
      "1/1 [==============================] - 0s 29ms/step\n",
      "1/1 [==============================] - 0s 28ms/step\n",
      "1/1 [==============================] - 0s 30ms/step\n",
      "1/1 [==============================] - 0s 27ms/step\n",
      "1/1 [==============================] - 0s 26ms/step\n",
      "1/1 [==============================] - 0s 36ms/step\n",
      "1/1 [==============================] - 0s 29ms/step\n",
      "1/1 [==============================] - 0s 31ms/step\n",
      "1/1 [==============================] - 0s 27ms/step\n",
      "1/1 [==============================] - 0s 26ms/step\n",
      "1/1 [==============================] - 0s 28ms/step\n",
      "1/1 [==============================] - 0s 33ms/step\n",
      "1/1 [==============================] - 0s 27ms/step\n",
      "1/1 [==============================] - 0s 27ms/step\n",
      "1/1 [==============================] - 0s 29ms/step\n",
      "1/1 [==============================] - 0s 27ms/step\n",
      "1/1 [==============================] - 0s 29ms/step\n",
      "1/1 [==============================] - 0s 28ms/step\n",
      "1/1 [==============================] - 0s 29ms/step\n",
      "1/1 [==============================] - 0s 29ms/step\n",
      "1/1 [==============================] - 0s 28ms/step\n",
      "1/1 [==============================] - 0s 27ms/step\n",
      "1/1 [==============================] - 0s 28ms/step\n",
      "1/1 [==============================] - 0s 31ms/step\n",
      "1/1 [==============================] - 0s 28ms/step\n",
      "1/1 [==============================] - 0s 27ms/step\n",
      "1/1 [==============================] - 0s 28ms/step\n",
      "1/1 [==============================] - 0s 28ms/step\n",
      "1/1 [==============================] - 0s 31ms/step\n",
      "1/1 [==============================] - 0s 29ms/step\n",
      "1/1 [==============================] - 0s 35ms/step\n",
      "1/1 [==============================] - 0s 28ms/step\n",
      "1/1 [==============================] - 0s 26ms/step\n",
      "1/1 [==============================] - 0s 28ms/step\n",
      "1/1 [==============================] - 0s 26ms/step\n",
      "1/1 [==============================] - 0s 35ms/step\n",
      "1/1 [==============================] - 0s 29ms/step\n",
      "1/1 [==============================] - 0s 28ms/step\n",
      "1/1 [==============================] - 0s 28ms/step\n",
      "1/1 [==============================] - 0s 27ms/step\n",
      "1/1 [==============================] - 0s 27ms/step\n",
      "1/1 [==============================] - 0s 27ms/step\n",
      "1/1 [==============================] - 0s 29ms/step\n",
      "1/1 [==============================] - 0s 30ms/step\n",
      "1/1 [==============================] - 0s 28ms/step\n",
      "1/1 [==============================] - 0s 27ms/step\n",
      "1/1 [==============================] - 0s 31ms/step\n",
      "1/1 [==============================] - 0s 31ms/step\n",
      "1/1 [==============================] - 0s 36ms/step\n",
      "1/1 [==============================] - 0s 27ms/step\n",
      "1/1 [==============================] - 0s 28ms/step\n",
      "1/1 [==============================] - 0s 30ms/step\n",
      "1/1 [==============================] - 0s 28ms/step\n",
      "1/1 [==============================] - 0s 28ms/step\n",
      "1/1 [==============================] - 0s 31ms/step\n",
      "1/1 [==============================] - 0s 29ms/step\n",
      "1/1 [==============================] - 0s 30ms/step\n",
      "1/1 [==============================] - 0s 28ms/step\n",
      "1/1 [==============================] - 0s 29ms/step\n",
      "1/1 [==============================] - 0s 28ms/step\n",
      "1/1 [==============================] - 0s 29ms/step\n",
      "1/1 [==============================] - 0s 35ms/step\n",
      "1/1 [==============================] - 0s 36ms/step\n",
      "1/1 [==============================] - 0s 28ms/step\n",
      "1/1 [==============================] - 0s 26ms/step\n",
      "1/1 [==============================] - 0s 28ms/step\n",
      "1/1 [==============================] - 0s 31ms/step\n",
      "1/1 [==============================] - 0s 30ms/step\n",
      "1/1 [==============================] - 0s 29ms/step\n",
      "1/1 [==============================] - 0s 28ms/step\n",
      "1/1 [==============================] - 0s 27ms/step\n",
      "1/1 [==============================] - 0s 29ms/step\n",
      "1/1 [==============================] - 0s 29ms/step\n",
      "1/1 [==============================] - 0s 27ms/step\n",
      "1/1 [==============================] - 0s 26ms/step\n",
      "1/1 [==============================] - 0s 27ms/step\n",
      "1/1 [==============================] - 0s 28ms/step\n",
      "1/1 [==============================] - 0s 28ms/step\n"
     ]
    }
   ],
   "source": [
    "# 1. New detection variables\n",
    "sequence = []\n",
    "sentence = []\n",
    "threshold = 0.8\n",
    "\n",
    "cap = cv.VideoCapture(0)\n",
    "\n",
    "# Set webcam width and height\n",
    "cap.set(3, 1280)\n",
    "\n",
    "# Set mediapipe model \n",
    "with mp_holistic.Holistic(min_detection_confidence=0.5, min_tracking_confidence=0.5) as holistic:\n",
    "    while cap.isOpened():\n",
    "\n",
    "        # Read feed\n",
    "        ret, frame = cap.read()\n",
    "        frame = cv.flip(frame, 1)\n",
    "\n",
    "        # Make detections\n",
    "        image, results = mediapipe_detection(frame, holistic)\n",
    "        # print(results)\n",
    "        \n",
    "        # Draw landmarks\n",
    "        draw_styled_landmarks(image, results)\n",
    "        \n",
    "        # 2. Prediction logic\n",
    "        keypoints = extract_keypoints(results)\n",
    "#         sequence.insert(0,keypoints)\n",
    "#         sequence = sequence[:30]\n",
    "        sequence.append(keypoints)\n",
    "        sequence = sequence[-30:]\n",
    "        \n",
    "        if len(sequence) == 30:\n",
    "            res = model.predict(np.expand_dims(sequence, axis=0))[0]\n",
    "            # print(actions[np.argmax(res)])\n",
    "            \n",
    "            \n",
    "        #3. Viz logic\n",
    "            if res[np.argmax(res)] > threshold: \n",
    "                if len(sentence) > 0: \n",
    "                    if actions[np.argmax(res)] != sentence[-1]:\n",
    "                        sentence.append(actions[np.argmax(res)])\n",
    "                else:\n",
    "                    sentence.append(actions[np.argmax(res)])\n",
    "\n",
    "            if len(sentence) > 5: \n",
    "                sentence = sentence[-5:]\n",
    "\n",
    "            # Viz probabilities\n",
    "            image = prob_viz(res, actions, image, colors)\n",
    "            \n",
    "        cv.rectangle(image, (0,0), (640, 40), (245, 117, 16), -1)\n",
    "        cv.putText(image, ' '.join(sentence), (3,30), \n",
    "                       cv.FONT_HERSHEY_SIMPLEX, 1, (255, 255, 255), 2, cv.LINE_AA)\n",
    "        \n",
    "        # Show to screen        \n",
    "        cv.imshow('OpenCV Feed', image)\n",
    "\n",
    "        # Break gracefully\n",
    "        if cv.waitKey(10) & 0xFF == ord('q'):\n",
    "            break\n",
    "    cap.release()\n",
    "    cv.destroyAllWindows()"
   ]
  },
  {
   "cell_type": "code",
   "execution_count": 412,
   "id": "ddf397d1-3190-4e80-908b-c04475dbd658",
   "metadata": {},
   "outputs": [],
   "source": [
    "# cap.release()\n",
    "# cv.destroyAllWindows()"
   ]
  },
  {
   "cell_type": "code",
   "execution_count": null,
   "id": "20e2c5ea-1994-46cc-8fd4-d33e76e596bd",
   "metadata": {},
   "outputs": [],
   "source": []
  }
 ],
 "metadata": {
  "kernelspec": {
   "display_name": "Python 3 (ipykernel)",
   "language": "python",
   "name": "python3"
  },
  "language_info": {
   "codemirror_mode": {
    "name": "ipython",
    "version": 3
   },
   "file_extension": ".py",
   "mimetype": "text/x-python",
   "name": "python",
   "nbconvert_exporter": "python",
   "pygments_lexer": "ipython3",
   "version": "3.11.7"
  }
 },
 "nbformat": 4,
 "nbformat_minor": 5
}
